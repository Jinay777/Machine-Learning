{
  "nbformat": 4,
  "nbformat_minor": 0,
  "metadata": {
    "colab": {
      "provenance": []
    },
    "kernelspec": {
      "name": "python3",
      "display_name": "Python 3"
    },
    "language_info": {
      "name": "python"
    }
  },
  "cells": [
    {
      "cell_type": "code",
      "execution_count": null,
      "metadata": {
        "id": "V8_ElnK6G6uw"
      },
      "outputs": [],
      "source": [
        "from sklearn.datasets import make_classification\n",
        "\n",
        "X,y=make_classification(n_samples=1000, n_features=20,n_classes=2, n_informative= 15, n_redundant= 5, random_state=6)"
      ]
    },
    {
      "cell_type": "code",
      "source": [
        "from sklearn.model_selection import KFold, cross_val_score\n",
        "from sklearn.tree import DecisionTreeClassifier"
      ],
      "metadata": {
        "id": "zCcRwIbGJiEo"
      },
      "execution_count": null,
      "outputs": []
    },
    {
      "cell_type": "code",
      "source": [
        "clf = DecisionTreeClassifier(random_state=42)\n",
        "\n",
        "k_folds = KFold(n_splits = 5)\n",
        "\n",
        "scores = cross_val_score(clf, X, y, cv = k_folds)\n",
        "\n",
        "print(\"Cross Validation Scores: \", scores)\n",
        "print(\"Average CV Score: \", scores.mean())\n",
        "print(\"Number of CV Scores used in Average: \", len(scores))"
      ],
      "metadata": {
        "colab": {
          "base_uri": "https://localhost:8080/"
        },
        "id": "u4yaPzZTK9nw",
        "outputId": "9c7c1904-e9f2-4664-81b1-32b16239b3fc"
      },
      "execution_count": null,
      "outputs": [
        {
          "output_type": "stream",
          "name": "stdout",
          "text": [
            "Cross Validation Scores:  [0.83  0.805 0.755 0.83  0.745]\n",
            "Average CV Score:  0.793\n",
            "Number of CV Scores used in Average:  5\n"
          ]
        }
      ]
    },
    {
      "cell_type": "code",
      "source": [
        "from sklearn.linear_model import LogisticRegression"
      ],
      "metadata": {
        "id": "CQht6MR3LAho"
      },
      "execution_count": null,
      "outputs": []
    },
    {
      "cell_type": "code",
      "source": [
        "lr = LogisticRegression(random_state=0)\n",
        "\n",
        "k_folds = KFold(n_splits = 5)\n",
        "\n",
        "scores = cross_val_score(lr, X, y, cv = k_folds)\n",
        "\n",
        "print(\"Cross Validation Scores: \", scores)\n",
        "print(\"Average CV Score: \", scores.mean())\n",
        "print(\"Number of CV Scores used in Average: \", len(scores))"
      ],
      "metadata": {
        "colab": {
          "base_uri": "https://localhost:8080/"
        },
        "id": "IaqhWop3LDIA",
        "outputId": "73e53db3-2ac2-467c-eb95-c67c3f4809a1"
      },
      "execution_count": null,
      "outputs": [
        {
          "output_type": "stream",
          "name": "stdout",
          "text": [
            "Cross Validation Scores:  [0.855 0.74  0.775 0.81  0.81 ]\n",
            "Average CV Score:  0.798\n",
            "Number of CV Scores used in Average:  5\n"
          ]
        }
      ]
    },
    {
      "cell_type": "code",
      "source": [
        "from sklearn.ensemble import AdaBoostClassifier"
      ],
      "metadata": {
        "id": "ekJqWQdDKrCg"
      },
      "execution_count": null,
      "outputs": []
    },
    {
      "cell_type": "code",
      "source": [
        "from sklearn.model_selection import train_test_split\n",
        "\n",
        "X_train, X_test, y_train, y_test = train_test_split(X, y, test_size=0.3)"
      ],
      "metadata": {
        "id": "__oa5KNAKwDI"
      },
      "execution_count": null,
      "outputs": []
    },
    {
      "cell_type": "code",
      "source": [
        "abc = AdaBoostClassifier(base_estimator = clf)\n",
        "\n",
        "abc= AdaBoostClassifier()\n",
        "\n",
        "model = abc.fit(X_train, y_train)\n",
        "\n",
        "y_pred = model.predict(X_test)"
      ],
      "metadata": {
        "id": "NpglHlMRKzuv"
      },
      "execution_count": null,
      "outputs": []
    },
    {
      "cell_type": "code",
      "source": [
        "from sklearn import metrics\n"
      ],
      "metadata": {
        "id": "HeEc4-NZLS23"
      },
      "execution_count": null,
      "outputs": []
    },
    {
      "cell_type": "code",
      "source": [
        "print(\"Accuracy:\",metrics.accuracy_score(y_test, y_pred))"
      ],
      "metadata": {
        "colab": {
          "base_uri": "https://localhost:8080/"
        },
        "id": "Z8vUJ-A_LWWY",
        "outputId": "ac4c9afb-1e9e-47df-8112-8ff39c1c75bf"
      },
      "execution_count": null,
      "outputs": [
        {
          "output_type": "stream",
          "name": "stdout",
          "text": [
            "Accuracy: 0.8066666666666666\n"
          ]
        }
      ]
    },
    {
      "cell_type": "code",
      "source": [
        "from sklearn.metrics import accuracy_score"
      ],
      "metadata": {
        "id": "0vpysRNlMdeo"
      },
      "execution_count": null,
      "outputs": []
    },
    {
      "cell_type": "code",
      "source": [
        "depth = [2,3,4,5,6,7,8,9,10,11,12]\n",
        "for i in depth:\n",
        "\n",
        "  clf = DecisionTreeClassifier(max_depth = i, random_state=42)\n",
        "\n",
        "  abc = AdaBoostClassifier(estimator = clf)\n",
        "\n",
        "  abc.fit(X_train, y_train)\n",
        "\n",
        "  y_pred = abc.predict(X_test)\n",
        "\n",
        "  print(f\"\\nMax Depth:{i}\")\n",
        "  print(f\"Accuracy = {accuracy_score(y_test,y_pred)}\")"
      ],
      "metadata": {
        "colab": {
          "base_uri": "https://localhost:8080/"
        },
        "id": "Jc2lJCSeLs4g",
        "outputId": "9eeb8c0b-4c88-4146-c9ec-abe19da08dd4"
      },
      "execution_count": null,
      "outputs": [
        {
          "output_type": "stream",
          "name": "stdout",
          "text": [
            "\n",
            "Max Depth:2\n",
            "Accuracy = 0.87\n",
            "\n",
            "Max Depth:3\n",
            "Accuracy = 0.8433333333333334\n",
            "\n",
            "Max Depth:4\n",
            "Accuracy = 0.8833333333333333\n",
            "\n",
            "Max Depth:5\n",
            "Accuracy = 0.89\n",
            "\n",
            "Max Depth:6\n",
            "Accuracy = 0.9033333333333333\n",
            "\n",
            "Max Depth:7\n",
            "Accuracy = 0.89\n",
            "\n",
            "Max Depth:8\n",
            "Accuracy = 0.9133333333333333\n",
            "\n",
            "Max Depth:9\n",
            "Accuracy = 0.78\n",
            "\n",
            "Max Depth:10\n",
            "Accuracy = 0.76\n",
            "\n",
            "Max Depth:11\n",
            "Accuracy = 0.7733333333333333\n",
            "\n",
            "Max Depth:12\n",
            "Accuracy = 0.7566666666666667\n"
          ]
        }
      ]
    },
    {
      "cell_type": "code",
      "source": [
        "from sklearn.ensemble import AdaBoostClassifier\n",
        "\n",
        "abc = AdaBoostClassifier(estimator = clf)\n",
        "\n",
        "abc.fit(X_train, y_train)\n",
        "\n",
        "y_pred = abc.predict(X_test)"
      ],
      "metadata": {
        "id": "ZOgYl6_cMn7Y"
      },
      "execution_count": null,
      "outputs": []
    },
    {
      "cell_type": "code",
      "source": [
        "from sklearn.metrics import accuracy_score\n",
        "\n",
        "print(f\"Accuracy = {accuracy_score(y_test,y_pred)}\")"
      ],
      "metadata": {
        "colab": {
          "base_uri": "https://localhost:8080/"
        },
        "id": "_o922p5cMp6A",
        "outputId": "cd07adff-5ab8-4b9f-d80c-5a5d26ac29e7"
      },
      "execution_count": null,
      "outputs": [
        {
          "output_type": "stream",
          "name": "stdout",
          "text": [
            "Accuracy = 0.7766666666666666\n"
          ]
        }
      ]
    },
    {
      "cell_type": "code",
      "source": [
        "l_rate = [0.1,0.5,0.01,0.05, 0.1, 0.2, 0.01, 0.1, 0.2, 0.01, 0.1]\n",
        "\n",
        "for i in l_rate:\n",
        "\n",
        "  clf = DecisionTreeClassifier(random_state=42)\n",
        "\n",
        "  abc = AdaBoostClassifier(estimator = clf, learning_rate = i)\n",
        "\n",
        "  abc.fit(X_train, y_train)\n",
        "\n",
        "  y_pred = abc.predict(X_test)\n",
        "\n",
        "  print(f\"\\nLearning Rate:{i}\")\n",
        "  print(f\"Accuracy = {accuracy_score(y_test,y_pred)}\")"
      ],
      "metadata": {
        "colab": {
          "base_uri": "https://localhost:8080/"
        },
        "id": "e5Rv8KezMtbZ",
        "outputId": "2cfbc388-acc4-4af3-d9ce-db57ff00a74a"
      },
      "execution_count": null,
      "outputs": [
        {
          "output_type": "stream",
          "name": "stdout",
          "text": [
            "\n",
            "Learning Rate:0.1\n",
            "Accuracy = 0.76\n",
            "\n",
            "Learning Rate:0.5\n",
            "Accuracy = 0.7733333333333333\n",
            "\n",
            "Learning Rate:0.01\n",
            "Accuracy = 0.7733333333333333\n",
            "\n",
            "Learning Rate:0.05\n",
            "Accuracy = 0.7633333333333333\n",
            "\n",
            "Learning Rate:0.1\n",
            "Accuracy = 0.7733333333333333\n",
            "\n",
            "Learning Rate:0.2\n",
            "Accuracy = 0.77\n",
            "\n",
            "Learning Rate:0.01\n",
            "Accuracy = 0.7666666666666667\n",
            "\n",
            "Learning Rate:0.1\n",
            "Accuracy = 0.7633333333333333\n",
            "\n",
            "Learning Rate:0.2\n",
            "Accuracy = 0.7566666666666667\n",
            "\n",
            "Learning Rate:0.01\n",
            "Accuracy = 0.7633333333333333\n",
            "\n",
            "Learning Rate:0.1\n",
            "Accuracy = 0.76\n"
          ]
        }
      ]
    },
    {
      "cell_type": "code",
      "source": [
        "for i in depth:\n",
        "\n",
        "  clf = DecisionTreeClassifier(max_depth = i, random_state=42)\n",
        "\n",
        "  abc = AdaBoostClassifier(estimator = clf)\n",
        "\n",
        "  abc.fit(X_train, y_train)\n",
        "\n",
        "  y_pred = abc.predict(X_test)\n",
        "\n",
        "  print(f\"\\nMax Depth:{i}\")\n",
        "  print(f\"Accuracy = {accuracy_score(y_test,y_pred)}\")"
      ],
      "metadata": {
        "colab": {
          "base_uri": "https://localhost:8080/"
        },
        "id": "8PUmF0QSN0XY",
        "outputId": "5a217016-aa2f-49dd-a826-baff9111a6b3"
      },
      "execution_count": null,
      "outputs": [
        {
          "output_type": "stream",
          "name": "stdout",
          "text": [
            "\n",
            "Max Depth:2\n",
            "Accuracy = 0.87\n",
            "\n",
            "Max Depth:3\n",
            "Accuracy = 0.8433333333333334\n",
            "\n",
            "Max Depth:4\n",
            "Accuracy = 0.8733333333333333\n",
            "\n",
            "Max Depth:5\n",
            "Accuracy = 0.9133333333333333\n",
            "\n",
            "Max Depth:6\n",
            "Accuracy = 0.91\n",
            "\n",
            "Max Depth:7\n",
            "Accuracy = 0.9133333333333333\n",
            "\n",
            "Max Depth:8\n",
            "Accuracy = 0.9266666666666666\n",
            "\n",
            "Max Depth:9\n",
            "Accuracy = 0.9333333333333333\n",
            "\n",
            "Max Depth:10\n",
            "Accuracy = 0.7633333333333333\n",
            "\n",
            "Max Depth:11\n",
            "Accuracy = 0.7766666666666666\n",
            "\n",
            "Max Depth:12\n",
            "Accuracy = 0.77\n"
          ]
        }
      ]
    },
    {
      "cell_type": "code",
      "source": [
        "from sklearn.metrics import accuracy_score\n",
        "\n",
        "print(f\"Accuracy = {accuracy_score(y_test,y_pred)}\")"
      ],
      "metadata": {
        "colab": {
          "base_uri": "https://localhost:8080/"
        },
        "id": "HchNt1uwN7ZY",
        "outputId": "c682d623-1fda-46cf-aa23-1cbbb35fff36"
      },
      "execution_count": null,
      "outputs": [
        {
          "output_type": "stream",
          "name": "stdout",
          "text": [
            "Accuracy = 0.77\n"
          ]
        }
      ]
    },
    {
      "cell_type": "code",
      "source": [
        "import matplotlib.pyplot as plt\n",
        "\n",
        "import numpy as np\n",
        "\n",
        "learning_rates = [0.1,0.5,0.01,0.05, 0.1, 0.2, 0.01, 0.1, 0.2, 0.01, 0.1]\n",
        "\n",
        "max_depths = [2,3,4,5,6,7,8,9,10,11,12]\n",
        "\n",
        "data = np.random.rand(len(max_depths), len(learning_rates))\n",
        "\n",
        "fig, ax = plt.subplots()\n",
        "\n",
        "ax.boxplot(data)\n",
        "\n",
        "ax.set_xlabel('Learning Rate')\n",
        "\n",
        "ax.set_ylabel('Max Depth')\n",
        "\n",
        "ax.set_title('Box Plot of Learning Rate and Max Depth')\n",
        "\n",
        "ax.set_xticklabels(learning_rates)\n",
        "\n",
        "ax.set_yticklabels(max_depths)\n",
        "\n",
        "plt.show()"
      ],
      "metadata": {
        "colab": {
          "base_uri": "https://localhost:8080/",
          "height": 515
        },
        "id": "82ahHvZZQqPI",
        "outputId": "dfbeb539-b0b3-46f3-963c-f6dea12572ff"
      },
      "execution_count": null,
      "outputs": [
        {
          "output_type": "stream",
          "name": "stderr",
          "text": [
            "<ipython-input-72-114624b49103>:23: UserWarning: FixedFormatter should only be used together with FixedLocator\n",
            "  ax.set_yticklabels(max_depths)\n"
          ]
        },
        {
          "output_type": "display_data",
          "data": {
            "text/plain": [
              "<Figure size 640x480 with 1 Axes>"
            ],
            "image/png": "[encoded data removed]"
          },
          "metadata": {}
        }
      ]
    },
    {
      "cell_type": "code",
      "source": [
        "from sklearn.tree import DecisionTreeClassifier\n",
        "\n",
        "from sklearn.ensemble import AdaBoostClassifier\n",
        "\n",
        "from sklearn.model_selection import KFold\n",
        "\n",
        "from sklearn.model_selection import cross_val_score\n",
        "\n",
        "num_folds = 5\n",
        "\n",
        "max_depths = range(1, 11)\n",
        "\n",
        "cv_scores = []\n",
        "\n",
        "for max_depth in max_depths:\n",
        "  dtc = DecisionTreeClassifier(max_depth=max_depth, random_state=101)\n",
        "  ada = AdaBoostClassifier(estimator=dtc, random_state=101)\n",
        "  kfold = KFold(n_splits=num_folds, shuffle=True, random_state=101)\n",
        "  scores = cross_val_score(ada, X, y, cv=kfold)\n",
        "  cv_scores.append(scores.mean())\n",
        "  print(\"Max depth:\", max_depth, \"Accuracy:\", scores.mean())\n",
        "\n",
        "print(\"Cross-validation scores:\", cv_scores)"
      ],
      "metadata": {
        "colab": {
          "base_uri": "https://localhost:8080/"
        },
        "id": "Ybs71LPgSzGx",
        "outputId": "621aa780-2128-4fab-e463-456ecb35a83a"
      },
      "execution_count": null,
      "outputs": [
        {
          "output_type": "stream",
          "name": "stdout",
          "text": [
            "Max depth: 1 Accuracy: 0.799\n",
            "Max depth: 2 Accuracy: 0.851\n",
            "Max depth: 3 Accuracy: 0.874\n",
            "Max depth: 4 Accuracy: 0.8959999999999999\n",
            "Max depth: 5 Accuracy: 0.915\n",
            "Max depth: 6 Accuracy: 0.923\n",
            "Max depth: 7 Accuracy: 0.9200000000000002\n",
            "Max depth: 8 Accuracy: 0.922\n",
            "Max depth: 9 Accuracy: 0.9280000000000002\n",
            "Max depth: 10 Accuracy: 0.938\n",
            "Cross-validation scores: [0.799, 0.851, 0.874, 0.8959999999999999, 0.915, 0.923, 0.9200000000000002, 0.922, 0.9280000000000002, 0.938]\n"
          ]
        }
      ]
    },
    {
      "cell_type": "code",
      "source": [
        "from sklearn.tree import DecisionTreeClassifier\n",
        "\n",
        "from sklearn.ensemble import AdaBoostClassifier\n",
        "\n",
        "from sklearn.model_selection import KFold\n",
        "\n",
        "from sklearn.model_selection import cross_val_score\n",
        "\n",
        "def get_models():\n",
        "  models = []\n",
        "  for max_depth in range(1, 11):\n",
        "    dtc = DecisionTreeClassifier(max_depth=max_depth, random_state=101)\n",
        "    ada = AdaBoostClassifier(estimator=dtc, random_state=101)\n",
        "    models.append(ada)\n",
        "  return models\n",
        "\n",
        "\n",
        "\n",
        "\n",
        "\n",
        "def evaluate_model(model, X, y):\n",
        "  kfold = KFold(n_splits=10, shuffle=True, random_state=101)\n",
        "  scores = cross_val_score(model, X, y, cv=kfold)\n",
        "  print(f\"Accuracy: {scores.mean():.3f}\")\n",
        "\n",
        "models = get_models()\n",
        "\n",
        "for model in models:\n",
        "  evaluate_model(model, X, y)"
      ],
      "metadata": {
        "colab": {
          "base_uri": "https://localhost:8080/"
        },
        "id": "Kq5A6lLzTLXA",
        "outputId": "a0afc617-c2e8-4294-9556-d46cfdaeef05"
      },
      "execution_count": null,
      "outputs": [
        {
          "output_type": "stream",
          "name": "stdout",
          "text": [
            "Accuracy: 0.806\n",
            "Accuracy: 0.867\n",
            "Accuracy: 0.871\n",
            "Accuracy: 0.890\n",
            "Accuracy: 0.916\n",
            "Accuracy: 0.918\n",
            "Accuracy: 0.915\n",
            "Accuracy: 0.929\n",
            "Accuracy: 0.932\n",
            "Accuracy: 0.932\n"
          ]
        }
      ]
    },
    {
      "cell_type": "code",
      "source": [
        "from sklearn.model_selection import GridSearchCV"
      ],
      "metadata": {
        "id": "6T-Kn6XyVM4b"
      },
      "execution_count": null,
      "outputs": []
    },
    {
      "cell_type": "code",
      "source": [
        "model= AdaBoostClassifier()"
      ],
      "metadata": {
        "id": "p5qd5_ptWGCo"
      },
      "execution_count": null,
      "outputs": []
    },
    {
      "cell_type": "code",
      "source": [
        "param_grid = {\n",
        "    'n_estimators': [10, 56, 100, 520],\n",
        "    'learning_rate': [0.0001, 0.001, 0.01, 0.1]\n",
        "}\n"
      ],
      "metadata": {
        "id": "X4Z9QwVlWRX4"
      },
      "execution_count": null,
      "outputs": []
    },
    {
      "cell_type": "code",
      "source": [
        "grid_search = GridSearchCV(estimator=model, param_grid=param_grid, cv= 5, n_jobs= -1)"
      ],
      "metadata": {
        "id": "KvhcMw73XE0A"
      },
      "execution_count": null,
      "outputs": []
    },
    {
      "cell_type": "code",
      "source": [
        "grid_search.fit(X, y)"
      ],
      "metadata": {
        "colab": {
          "base_uri": "https://localhost:8080/",
          "height": 118
        },
        "id": "LLcOLi3kXZto",
        "outputId": "9bad1224-a1d1-4a64-e06c-e52dbca92e7a"
      },
      "execution_count": null,
      "outputs": [
        {
          "output_type": "execute_result",
          "data": {
            "text/plain": [
              "GridSearchCV(cv=5, estimator=AdaBoostClassifier(), n_jobs=-1,\n",
              "             param_grid={'learning_rate': [0.0001, 0.001, 0.01, 0.1],\n",
              "                         'n_estimators': [10, 56, 100, 520]})"
            ],
            "text/html": [
              "<style>#sk-container-id-1 {color: black;background-color: white;}#sk-container-id-1 pre{padding: 0;}#sk-container-id-1 div.sk-toggleable {background-color: white;}#sk-container-id-1 label.sk-toggleable__label {cursor: pointer;display: block;width: 100%;margin-bottom: 0;padding: 0.3em;box-sizing: border-box;text-align: center;}#sk-container-id-1 label.sk-toggleable__label-arrow:before {content: \"▸\";float: left;margin-right: 0.25em;color: #696969;}#sk-container-id-1 label.sk-toggleable__label-arrow:hover:before {color: black;}#sk-container-id-1 div.sk-estimator:hover label.sk-toggleable__label-arrow:before {color: black;}#sk-container-id-1 div.sk-toggleable__content {max-height: 0;max-width: 0;overflow: hidden;text-align: left;background-color: #f0f8ff;}#sk-container-id-1 div.sk-toggleable__content pre {margin: 0.2em;color: black;border-radius: 0.25em;background-color: #f0f8ff;}#sk-container-id-1 input.sk-toggleable__control:checked~div.sk-toggleable__content {max-height: 200px;max-width: 100%;overflow: auto;}#sk-container-id-1 input.sk-toggleable__control:checked~label.sk-toggleable__label-arrow:before {content: \"▾\";}#sk-container-id-1 div.sk-estimator input.sk-toggleable__control:checked~label.sk-toggleable__label {background-color: #d4ebff;}#sk-container-id-1 div.sk-label input.sk-toggleable__control:checked~label.sk-toggleable__label {background-color: #d4ebff;}#sk-container-id-1 input.sk-hidden--visually {border: 0;clip: rect(1px 1px 1px 1px);clip: rect(1px, 1px, 1px, 1px);height: 1px;margin: -1px;overflow: hidden;padding: 0;position: absolute;width: 1px;}#sk-container-id-1 div.sk-estimator {font-family: monospace;background-color: #f0f8ff;border: 1px dotted black;border-radius: 0.25em;box-sizing: border-box;margin-bottom: 0.5em;}#sk-container-id-1 div.sk-estimator:hover {background-color: #d4ebff;}#sk-container-id-1 div.sk-parallel-item::after {content: \"\";width: 100%;border-bottom: 1px solid gray;flex-grow: 1;}#sk-container-id-1 div.sk-label:hover label.sk-toggleable__label {background-color: #d4ebff;}#sk-container-id-1 div.sk-serial::before {content: \"\";position: absolute;border-left: 1px solid gray;box-sizing: border-box;top: 0;bottom: 0;left: 50%;z-index: 0;}#sk-container-id-1 div.sk-serial {display: flex;flex-direction: column;align-items: center;background-color: white;padding-right: 0.2em;padding-left: 0.2em;position: relative;}#sk-container-id-1 div.sk-item {position: relative;z-index: 1;}#sk-container-id-1 div.sk-parallel {display: flex;align-items: stretch;justify-content: center;background-color: white;position: relative;}#sk-container-id-1 div.sk-item::before, #sk-container-id-1 div.sk-parallel-item::before {content: \"\";position: absolute;border-left: 1px solid gray;box-sizing: border-box;top: 0;bottom: 0;left: 50%;z-index: -1;}#sk-container-id-1 div.sk-parallel-item {display: flex;flex-direction: column;z-index: 1;position: relative;background-color: white;}#sk-container-id-1 div.sk-parallel-item:first-child::after {align-self: flex-end;width: 50%;}#sk-container-id-1 div.sk-parallel-item:last-child::after {align-self: flex-start;width: 50%;}#sk-container-id-1 div.sk-parallel-item:only-child::after {width: 0;}#sk-container-id-1 div.sk-dashed-wrapped {border: 1px dashed gray;margin: 0 0.4em 0.5em 0.4em;box-sizing: border-box;padding-bottom: 0.4em;background-color: white;}#sk-container-id-1 div.sk-label label {font-family: monospace;font-weight: bold;display: inline-block;line-height: 1.2em;}#sk-container-id-1 div.sk-label-container {text-align: center;}#sk-container-id-1 div.sk-container {/* jupyter's `normalize.less` sets `[hidden] { display: none; }` but bootstrap.min.css set `[hidden] { display: none !important; }` so we also need the `!important` here to be able to override the default hidden behavior on the sphinx rendered scikit-learn.org. See: https://github.com/scikit-learn/scikit-learn/issues/21755 */display: inline-block !important;position: relative;}#sk-container-id-1 div.sk-text-repr-fallback {display: none;}</style><div id=\"sk-container-id-1\" class=\"sk-top-container\"><div class=\"sk-text-repr-fallback\"><pre>GridSearchCV(cv=5, estimator=AdaBoostClassifier(), n_jobs=-1,\n",
              "             param_grid={&#x27;learning_rate&#x27;: [0.0001, 0.001, 0.01, 0.1],\n",
              "                         &#x27;n_estimators&#x27;: [10, 56, 100, 520]})</pre><b>In a Jupyter environment, please rerun this cell to show the HTML representation or trust the notebook. <br />On GitHub, the HTML representation is unable to render, please try loading this page with nbviewer.org.</b></div><div class=\"sk-container\" hidden><div class=\"sk-item sk-dashed-wrapped\"><div class=\"sk-label-container\"><div class=\"sk-label sk-toggleable\"><input class=\"sk-toggleable__control sk-hidden--visually\" id=\"sk-estimator-id-1\" type=\"checkbox\" ><label for=\"sk-estimator-id-1\" class=\"sk-toggleable__label sk-toggleable__label-arrow\">GridSearchCV</label><div class=\"sk-toggleable__content\"><pre>GridSearchCV(cv=5, estimator=AdaBoostClassifier(), n_jobs=-1,\n",
              "             param_grid={&#x27;learning_rate&#x27;: [0.0001, 0.001, 0.01, 0.1],\n",
              "                         &#x27;n_estimators&#x27;: [10, 56, 100, 520]})</pre></div></div></div><div class=\"sk-parallel\"><div class=\"sk-parallel-item\"><div class=\"sk-item\"><div class=\"sk-label-container\"><div class=\"sk-label sk-toggleable\"><input class=\"sk-toggleable__control sk-hidden--visually\" id=\"sk-estimator-id-2\" type=\"checkbox\" ><label for=\"sk-estimator-id-2\" class=\"sk-toggleable__label sk-toggleable__label-arrow\">estimator: AdaBoostClassifier</label><div class=\"sk-toggleable__content\"><pre>AdaBoostClassifier()</pre></div></div></div><div class=\"sk-serial\"><div class=\"sk-item\"><div class=\"sk-estimator sk-toggleable\"><input class=\"sk-toggleable__control sk-hidden--visually\" id=\"sk-estimator-id-3\" type=\"checkbox\" ><label for=\"sk-estimator-id-3\" class=\"sk-toggleable__label sk-toggleable__label-arrow\">AdaBoostClassifier</label><div class=\"sk-toggleable__content\"><pre>AdaBoostClassifier()</pre></div></div></div></div></div></div></div></div></div></div>"
            ]
          },
          "metadata": {},
          "execution_count": 82
        }
      ]
    },
    {
      "cell_type": "code",
      "source": [],
      "metadata": {
        "id": "bewc0uLfa9x5"
      },
      "execution_count": null,
      "outputs": []
    }
  ]
}