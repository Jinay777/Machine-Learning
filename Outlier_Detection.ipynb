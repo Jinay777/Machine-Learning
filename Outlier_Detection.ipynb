{
  "nbformat": 4,
  "nbformat_minor": 0,
  "metadata": {
    "colab": {
      "provenance": []
    },
    "kernelspec": {
      "name": "python3",
      "display_name": "Python 3"
    },
    "language_info": {
      "name": "python"
    }
  },
  "cells": [
    {
      "cell_type": "markdown",
      "source": [
        "#The workflow\n",
        "As we discussed in the lecture, this is workflow:\n",
        "- Make a model for your data\n",
        "- Choose a scoring method\n",
        "- Choose a cutoff above/below which the points are anomalies\n",
        "- Look at these anomalies and see if the analysis makes sense"
      ],
      "metadata": {
        "id": "bN7rUchKSDgz"
      }
    },
    {
      "cell_type": "markdown",
      "source": [
        "\n",
        "##Z-score\n",
        "We will examine student participation in standardized testing. Specifically, we will look at student participation rates in the SAT in Connecticut school districts in 2012. The raw data is available here:\n",
        "https://catalog.data.gov/dataset/sat-district-participation-and-performance-2012-2013\n",
        "The data was cleaned so that missing values were removed, percentages were converted into decimals and only essential data for 2012 was retained.\n",
        "The goal of this section is to identify schools with low participation rates as a first step in helping these schools improve their participation rates.\n",
        "Load the data as a pandas dataframe and take a look at it."
      ],
      "metadata": {
        "id": "MC97PSZ3STRu"
      }
    },
    {
      "cell_type": "code",
      "source": [
        "%matplotlib inline\n",
        "\n",
        "import sys\n",
        "import scipy\n",
        "import scipy.stats as ss\n",
        "import numpy as np\n",
        "import matplotlib\n",
        "import matplotlib.pyplot as plt\n",
        "import pandas as pd\n",
        "import random"
      ],
      "metadata": {
        "id": "9iITsu34S5IB"
      },
      "execution_count": null,
      "outputs": []
    },
    {
      "cell_type": "code",
      "source": [
        "ct_test = pd.read_csv('/content/SAT_CT_District_Participation_2012.csv')\n",
        "print(ct_test.shape)\n",
        "ct_test.head()"
      ],
      "metadata": {
        "colab": {
          "base_uri": "https://localhost:8080/",
          "height": 221
        },
        "id": "KM9iruepSrMf",
        "outputId": "01545f7f-41bf-4d7c-93a2-94eef8b2c0ec"
      },
      "execution_count": null,
      "outputs": [
        {
          "output_type": "stream",
          "name": "stdout",
          "text": [
            "(130, 2)\n"
          ]
        },
        {
          "output_type": "execute_result",
          "data": {
            "text/html": [
              "\n",
              "  <div id=\"df-b57c95ac-842c-465f-a775-c7b6914a1cb1\">\n",
              "    <div class=\"colab-df-container\">\n",
              "      <div>\n",
              "<style scoped>\n",
              "    .dataframe tbody tr th:only-of-type {\n",
              "        vertical-align: middle;\n",
              "    }\n",
              "\n",
              "    .dataframe tbody tr th {\n",
              "        vertical-align: top;\n",
              "    }\n",
              "\n",
              "    .dataframe thead th {\n",
              "        text-align: right;\n",
              "    }\n",
              "</style>\n",
              "<table border=\"1\" class=\"dataframe\">\n",
              "  <thead>\n",
              "    <tr style=\"text-align: right;\">\n",
              "      <th></th>\n",
              "      <th>District</th>\n",
              "      <th>Participation Rate</th>\n",
              "    </tr>\n",
              "  </thead>\n",
              "  <tbody>\n",
              "    <tr>\n",
              "      <th>0</th>\n",
              "      <td>Ansonia</td>\n",
              "      <td>0.66</td>\n",
              "    </tr>\n",
              "    <tr>\n",
              "      <th>1</th>\n",
              "      <td>Avon</td>\n",
              "      <td>0.90</td>\n",
              "    </tr>\n",
              "    <tr>\n",
              "      <th>2</th>\n",
              "      <td>Berlin</td>\n",
              "      <td>0.81</td>\n",
              "    </tr>\n",
              "    <tr>\n",
              "      <th>3</th>\n",
              "      <td>Bethel</td>\n",
              "      <td>0.86</td>\n",
              "    </tr>\n",
              "    <tr>\n",
              "      <th>4</th>\n",
              "      <td>Bloomfield</td>\n",
              "      <td>0.81</td>\n",
              "    </tr>\n",
              "  </tbody>\n",
              "</table>\n",
              "</div>\n",
              "      <button class=\"colab-df-convert\" onclick=\"convertToInteractive('df-b57c95ac-842c-465f-a775-c7b6914a1cb1')\"\n",
              "              title=\"Convert this dataframe to an interactive table.\"\n",
              "              style=\"display:none;\">\n",
              "        \n",
              "  <svg xmlns=\"http://www.w3.org/2000/svg\" height=\"24px\"viewBox=\"0 0 24 24\"\n",
              "       width=\"24px\">\n",
              "    <path d=\"M0 0h24v24H0V0z\" fill=\"none\"/>\n",
              "    <path d=\"M18.56 5.44l.94 2.06.94-2.06 2.06-.94-2.06-.94-.94-2.06-.94 2.06-2.06.94zm-11 1L8.5 8.5l.94-2.06 2.06-.94-2.06-.94L8.5 2.5l-.94 2.06-2.06.94zm10 10l.94 2.06.94-2.06 2.06-.94-2.06-.94-.94-2.06-.94 2.06-2.06.94z\"/><path d=\"M17.41 7.96l-1.37-1.37c-.4-.4-.92-.59-1.43-.59-.52 0-1.04.2-1.43.59L10.3 9.45l-7.72 7.72c-.78.78-.78 2.05 0 2.83L4 21.41c.39.39.9.59 1.41.59.51 0 1.02-.2 1.41-.59l7.78-7.78 2.81-2.81c.8-.78.8-2.07 0-2.86zM5.41 20L4 18.59l7.72-7.72 1.47 1.35L5.41 20z\"/>\n",
              "  </svg>\n",
              "      </button>\n",
              "      \n",
              "  <style>\n",
              "    .colab-df-container {\n",
              "      display:flex;\n",
              "      flex-wrap:wrap;\n",
              "      gap: 12px;\n",
              "    }\n",
              "\n",
              "    .colab-df-convert {\n",
              "      background-color: #E8F0FE;\n",
              "      border: none;\n",
              "      border-radius: 50%;\n",
              "      cursor: pointer;\n",
              "      display: none;\n",
              "      fill: #1967D2;\n",
              "      height: 32px;\n",
              "      padding: 0 0 0 0;\n",
              "      width: 32px;\n",
              "    }\n",
              "\n",
              "    .colab-df-convert:hover {\n",
              "      background-color: #E2EBFA;\n",
              "      box-shadow: 0px 1px 2px rgba(60, 64, 67, 0.3), 0px 1px 3px 1px rgba(60, 64, 67, 0.15);\n",
              "      fill: #174EA6;\n",
              "    }\n",
              "\n",
              "    [theme=dark] .colab-df-convert {\n",
              "      background-color: #3B4455;\n",
              "      fill: #D2E3FC;\n",
              "    }\n",
              "\n",
              "    [theme=dark] .colab-df-convert:hover {\n",
              "      background-color: #434B5C;\n",
              "      box-shadow: 0px 1px 3px 1px rgba(0, 0, 0, 0.15);\n",
              "      filter: drop-shadow(0px 1px 2px rgba(0, 0, 0, 0.3));\n",
              "      fill: #FFFFFF;\n",
              "    }\n",
              "  </style>\n",
              "\n",
              "      <script>\n",
              "        const buttonEl =\n",
              "          document.querySelector('#df-b57c95ac-842c-465f-a775-c7b6914a1cb1 button.colab-df-convert');\n",
              "        buttonEl.style.display =\n",
              "          google.colab.kernel.accessAllowed ? 'block' : 'none';\n",
              "\n",
              "        async function convertToInteractive(key) {\n",
              "          const element = document.querySelector('#df-b57c95ac-842c-465f-a775-c7b6914a1cb1');\n",
              "          const dataTable =\n",
              "            await google.colab.kernel.invokeFunction('convertToInteractive',\n",
              "                                                     [key], {});\n",
              "          if (!dataTable) return;\n",
              "\n",
              "          const docLinkHtml = 'Like what you see? Visit the ' +\n",
              "            '<a target=\"_blank\" href=https://colab.research.google.com/notebooks/data_table.ipynb>data table notebook</a>'\n",
              "            + ' to learn more about interactive tables.';\n",
              "          element.innerHTML = '';\n",
              "          dataTable['output_type'] = 'display_data';\n",
              "          await google.colab.output.renderOutput(dataTable, element);\n",
              "          const docLink = document.createElement('div');\n",
              "          docLink.innerHTML = docLinkHtml;\n",
              "          element.appendChild(docLink);\n",
              "        }\n",
              "      </script>\n",
              "    </div>\n",
              "  </div>\n",
              "  "
            ],
            "text/plain": [
              "     District  Participation Rate\n",
              "0     Ansonia                0.66\n",
              "1        Avon                0.90\n",
              "2      Berlin                0.81\n",
              "3      Bethel                0.86\n",
              "4  Bloomfield                0.81"
            ]
          },
          "metadata": {},
          "execution_count": 3
        }
      ]
    },
    {
      "cell_type": "markdown",
      "source": [
        "There are 130 schools. For convenience we will use the index number as a numeric label for each school district and use the name when appropriate.\n",
        "We are going to start by assuming that the data can be modeled with a normal distribution (we will check this later). And we will use the z-score to identify anomalies. As we are concerned about low participation rates, our cutoff will be a negative number---we are looking for schools with participation rates below the mean. Here we choose z=−2\n",
        ". That is, any school with a z-score below -2 will be labeled as an anomaly.\n",
        "If the participation rates are indeed distributed normally, then 95% of the data should be within two standard deviations of the mean. In other words, the anomalies for our threshold lie in the 2.5% left tail of the distribution.\n",
        "Note that for bigger datasets, larger absolute values of z\n",
        " (typically z=3\n",
        ") are often used as a threshold. Because we have a small dataset, a large value of z\n",
        " might lead to no data being labeled as an anomaly. Also, we were conservative in our choice of z\n",
        " because we want to help as many schools as possible.\n",
        "We could just go ahead and calculate the z-score for the participation rate, but it is good practice to look at fundamental statistics first. Let's calculate the mean and standard deviation. Since the data forms the whole population, we will report the population standard deviation (as opposed to the sample standard deviation)"
      ],
      "metadata": {
        "id": "OSh7zzIeUR4t"
      }
    },
    {
      "cell_type": "code",
      "source": [
        "mean_rate = ct_test['Participation Rate'].mean()\n",
        "\n",
        "\n",
        "# ddof is the degrees of freedom correction\n",
        "# in the calculation of the standard deviation;\n",
        "# for population standard deviation ddof=0\n",
        "stdev_rate = ct_test['Participation Rate'].std(ddof=0)\n"
      ],
      "metadata": {
        "id": "ZrPfayeAUTGR"
      },
      "execution_count": null,
      "outputs": []
    },
    {
      "cell_type": "markdown",
      "source": [],
      "metadata": {
        "id": "Z-juxEoAXOfl"
      }
    },
    {
      "cell_type": "code",
      "source": [
        "print('Mean participation rate is {:.3f}'.format(mean_rate))\n",
        "print('Standard deviation is {:.3f}'.format(stdev_rate))"
      ],
      "metadata": {
        "colab": {
          "base_uri": "https://localhost:8080/"
        },
        "id": "yiIGA5wFU5xW",
        "outputId": "749bfade-178d-41cc-9316-cb87ff3e6576"
      },
      "execution_count": null,
      "outputs": [
        {
          "output_type": "stream",
          "name": "stdout",
          "text": [
            "Mean participation rate is 0.741\n",
            "Standard deviation is 0.136\n"
          ]
        }
      ]
    },
    {
      "cell_type": "markdown",
      "source": [
        "Calculate the z-score and add the result to the dataframe."
      ],
      "metadata": {
        "id": "7Vh2RGMOU_U9"
      }
    },
    {
      "cell_type": "code",
      "source": [
        "zscore_rate = ss.zscore(ct_test['Participation Rate'], ddof=0)\n",
        "ct_test = ct_test.assign(zscore=zscore_rate)\n",
        "ct_test.head(8)"
      ],
      "metadata": {
        "colab": {
          "base_uri": "https://localhost:8080/",
          "height": 297
        },
        "id": "MPWIv3uNVB_C",
        "outputId": "16dacfca-71fd-4055-c0d9-ce4bed40aa60"
      },
      "execution_count": null,
      "outputs": [
        {
          "output_type": "execute_result",
          "data": {
            "text/html": [
              "\n",
              "  <div id=\"df-197ce4ad-ff51-4b55-9f4f-62033473a640\">\n",
              "    <div class=\"colab-df-container\">\n",
              "      <div>\n",
              "<style scoped>\n",
              "    .dataframe tbody tr th:only-of-type {\n",
              "        vertical-align: middle;\n",
              "    }\n",
              "\n",
              "    .dataframe tbody tr th {\n",
              "        vertical-align: top;\n",
              "    }\n",
              "\n",
              "    .dataframe thead th {\n",
              "        text-align: right;\n",
              "    }\n",
              "</style>\n",
              "<table border=\"1\" class=\"dataframe\">\n",
              "  <thead>\n",
              "    <tr style=\"text-align: right;\">\n",
              "      <th></th>\n",
              "      <th>District</th>\n",
              "      <th>Participation Rate</th>\n",
              "      <th>zscore</th>\n",
              "    </tr>\n",
              "  </thead>\n",
              "  <tbody>\n",
              "    <tr>\n",
              "      <th>0</th>\n",
              "      <td>Ansonia</td>\n",
              "      <td>0.66</td>\n",
              "      <td>-0.593779</td>\n",
              "    </tr>\n",
              "    <tr>\n",
              "      <th>1</th>\n",
              "      <td>Avon</td>\n",
              "      <td>0.90</td>\n",
              "      <td>1.175649</td>\n",
              "    </tr>\n",
              "    <tr>\n",
              "      <th>2</th>\n",
              "      <td>Berlin</td>\n",
              "      <td>0.81</td>\n",
              "      <td>0.512113</td>\n",
              "    </tr>\n",
              "    <tr>\n",
              "      <th>3</th>\n",
              "      <td>Bethel</td>\n",
              "      <td>0.86</td>\n",
              "      <td>0.880744</td>\n",
              "    </tr>\n",
              "    <tr>\n",
              "      <th>4</th>\n",
              "      <td>Bloomfield</td>\n",
              "      <td>0.81</td>\n",
              "      <td>0.512113</td>\n",
              "    </tr>\n",
              "    <tr>\n",
              "      <th>5</th>\n",
              "      <td>Bolton</td>\n",
              "      <td>0.85</td>\n",
              "      <td>0.807018</td>\n",
              "    </tr>\n",
              "    <tr>\n",
              "      <th>6</th>\n",
              "      <td>Branford</td>\n",
              "      <td>0.77</td>\n",
              "      <td>0.217209</td>\n",
              "    </tr>\n",
              "    <tr>\n",
              "      <th>7</th>\n",
              "      <td>Bridgeport</td>\n",
              "      <td>0.58</td>\n",
              "      <td>-1.183589</td>\n",
              "    </tr>\n",
              "  </tbody>\n",
              "</table>\n",
              "</div>\n",
              "      <button class=\"colab-df-convert\" onclick=\"convertToInteractive('df-197ce4ad-ff51-4b55-9f4f-62033473a640')\"\n",
              "              title=\"Convert this dataframe to an interactive table.\"\n",
              "              style=\"display:none;\">\n",
              "        \n",
              "  <svg xmlns=\"http://www.w3.org/2000/svg\" height=\"24px\"viewBox=\"0 0 24 24\"\n",
              "       width=\"24px\">\n",
              "    <path d=\"M0 0h24v24H0V0z\" fill=\"none\"/>\n",
              "    <path d=\"M18.56 5.44l.94 2.06.94-2.06 2.06-.94-2.06-.94-.94-2.06-.94 2.06-2.06.94zm-11 1L8.5 8.5l.94-2.06 2.06-.94-2.06-.94L8.5 2.5l-.94 2.06-2.06.94zm10 10l.94 2.06.94-2.06 2.06-.94-2.06-.94-.94-2.06-.94 2.06-2.06.94z\"/><path d=\"M17.41 7.96l-1.37-1.37c-.4-.4-.92-.59-1.43-.59-.52 0-1.04.2-1.43.59L10.3 9.45l-7.72 7.72c-.78.78-.78 2.05 0 2.83L4 21.41c.39.39.9.59 1.41.59.51 0 1.02-.2 1.41-.59l7.78-7.78 2.81-2.81c.8-.78.8-2.07 0-2.86zM5.41 20L4 18.59l7.72-7.72 1.47 1.35L5.41 20z\"/>\n",
              "  </svg>\n",
              "      </button>\n",
              "      \n",
              "  <style>\n",
              "    .colab-df-container {\n",
              "      display:flex;\n",
              "      flex-wrap:wrap;\n",
              "      gap: 12px;\n",
              "    }\n",
              "\n",
              "    .colab-df-convert {\n",
              "      background-color: #E8F0FE;\n",
              "      border: none;\n",
              "      border-radius: 50%;\n",
              "      cursor: pointer;\n",
              "      display: none;\n",
              "      fill: #1967D2;\n",
              "      height: 32px;\n",
              "      padding: 0 0 0 0;\n",
              "      width: 32px;\n",
              "    }\n",
              "\n",
              "    .colab-df-convert:hover {\n",
              "      background-color: #E2EBFA;\n",
              "      box-shadow: 0px 1px 2px rgba(60, 64, 67, 0.3), 0px 1px 3px 1px rgba(60, 64, 67, 0.15);\n",
              "      fill: #174EA6;\n",
              "    }\n",
              "\n",
              "    [theme=dark] .colab-df-convert {\n",
              "      background-color: #3B4455;\n",
              "      fill: #D2E3FC;\n",
              "    }\n",
              "\n",
              "    [theme=dark] .colab-df-convert:hover {\n",
              "      background-color: #434B5C;\n",
              "      box-shadow: 0px 1px 3px 1px rgba(0, 0, 0, 0.15);\n",
              "      filter: drop-shadow(0px 1px 2px rgba(0, 0, 0, 0.3));\n",
              "      fill: #FFFFFF;\n",
              "    }\n",
              "  </style>\n",
              "\n",
              "      <script>\n",
              "        const buttonEl =\n",
              "          document.querySelector('#df-197ce4ad-ff51-4b55-9f4f-62033473a640 button.colab-df-convert');\n",
              "        buttonEl.style.display =\n",
              "          google.colab.kernel.accessAllowed ? 'block' : 'none';\n",
              "\n",
              "        async function convertToInteractive(key) {\n",
              "          const element = document.querySelector('#df-197ce4ad-ff51-4b55-9f4f-62033473a640');\n",
              "          const dataTable =\n",
              "            await google.colab.kernel.invokeFunction('convertToInteractive',\n",
              "                                                     [key], {});\n",
              "          if (!dataTable) return;\n",
              "\n",
              "          const docLinkHtml = 'Like what you see? Visit the ' +\n",
              "            '<a target=\"_blank\" href=https://colab.research.google.com/notebooks/data_table.ipynb>data table notebook</a>'\n",
              "            + ' to learn more about interactive tables.';\n",
              "          element.innerHTML = '';\n",
              "          dataTable['output_type'] = 'display_data';\n",
              "          await google.colab.output.renderOutput(dataTable, element);\n",
              "          const docLink = document.createElement('div');\n",
              "          docLink.innerHTML = docLinkHtml;\n",
              "          element.appendChild(docLink);\n",
              "        }\n",
              "      </script>\n",
              "    </div>\n",
              "  </div>\n",
              "  "
            ],
            "text/plain": [
              "     District  Participation Rate    zscore\n",
              "0     Ansonia                0.66 -0.593779\n",
              "1        Avon                0.90  1.175649\n",
              "2      Berlin                0.81  0.512113\n",
              "3      Bethel                0.86  0.880744\n",
              "4  Bloomfield                0.81  0.512113\n",
              "5      Bolton                0.85  0.807018\n",
              "6    Branford                0.77  0.217209\n",
              "7  Bridgeport                0.58 -1.183589"
            ]
          },
          "metadata": {},
          "execution_count": 9
        }
      ]
    },
    {
      "cell_type": "markdown",
      "source": [
        "Now identify the anomalies and plot the results."
      ],
      "metadata": {
        "id": "yFFMMzitVNFO"
      }
    },
    {
      "cell_type": "code",
      "source": [
        "def plot_anomaly(score_data, threshold):\n",
        "    # Mask to plot values above and below threshold in different colors\n",
        "    score_data = score_data.copy().sort_values(ascending=False).values\n",
        "    ranks = np.linspace(1, len(score_data), len(score_data))\n",
        "    mask_outlier = (score_data < threshold)\n",
        "\n",
        "\n",
        "    plt.figure(dpi=150)\n",
        "    plt.plot(ranks[~mask_outlier], score_data[~mask_outlier],'o', color='b',label='OK schools')\n",
        "    plt.plot(ranks[mask_outlier], score_data[mask_outlier],'o', color='r', label='anomalies')\n",
        "    plt.axhline(threshold,color='r',label='threshold', alpha=0.5)\n",
        "    plt.legend(loc = 'lower left')\n",
        "    plt.title('Z-score vs. school district', fontweight='bold')\n",
        "    plt.xlabel('Ranked School district')\n",
        "    plt.ylabel('Z-score')\n",
        "    plt.show()"
      ],
      "metadata": {
        "id": "tCMIAsiwVN5s"
      },
      "execution_count": null,
      "outputs": []
    },
    {
      "cell_type": "code",
      "source": [
        "plot_anomaly(ct_test['zscore'], -2)"
      ],
      "metadata": {
        "colab": {
          "base_uri": "https://localhost:8080/",
          "height": 594
        },
        "id": "pDnk0kLNVdGP",
        "outputId": "85b4e65d-663a-4323-fe7c-cd434a1f1204"
      },
      "execution_count": null,
      "outputs": [
        {
          "output_type": "display_data",
          "data": {
            "image/png": "[encoded data removed]",
            "text/plain": [
              "<Figure size 900x600 with 1 Axes>"
            ]
          },
          "metadata": {
            "needs_background": "light"
          }
        }
      ]
    },
    {
      "cell_type": "markdown",
      "source": [
        "Finally, get a list of the schools that are anomalies."
      ],
      "metadata": {
        "id": "CTAac5UiWEHx"
      }
    },
    {
      "cell_type": "code",
      "source": [
        "zscore_anomalies = ct_test[(ct_test['zscore'] < -2)]\n",
        "zscore_anomalies"
      ],
      "metadata": {
        "colab": {
          "base_uri": "https://localhost:8080/",
          "height": 173
        },
        "id": "wAoA2a1HWGg6",
        "outputId": "6047262e-695b-4c3f-ff17-6769661a1a56"
      },
      "execution_count": null,
      "outputs": [
        {
          "output_type": "execute_result",
          "data": {
            "text/html": [
              "\n",
              "  <div id=\"df-3187c0d6-4470-40d7-a42b-343d0260be80\">\n",
              "    <div class=\"colab-df-container\">\n",
              "      <div>\n",
              "<style scoped>\n",
              "    .dataframe tbody tr th:only-of-type {\n",
              "        vertical-align: middle;\n",
              "    }\n",
              "\n",
              "    .dataframe tbody tr th {\n",
              "        vertical-align: top;\n",
              "    }\n",
              "\n",
              "    .dataframe thead th {\n",
              "        text-align: right;\n",
              "    }\n",
              "</style>\n",
              "<table border=\"1\" class=\"dataframe\">\n",
              "  <thead>\n",
              "    <tr style=\"text-align: right;\">\n",
              "      <th></th>\n",
              "      <th>District</th>\n",
              "      <th>Participation Rate</th>\n",
              "      <th>zscore</th>\n",
              "    </tr>\n",
              "  </thead>\n",
              "  <tbody>\n",
              "    <tr>\n",
              "      <th>50</th>\n",
              "      <td>New Britain</td>\n",
              "      <td>0.40</td>\n",
              "      <td>-2.510660</td>\n",
              "    </tr>\n",
              "    <tr>\n",
              "      <th>99</th>\n",
              "      <td>Windham</td>\n",
              "      <td>0.37</td>\n",
              "      <td>-2.731839</td>\n",
              "    </tr>\n",
              "    <tr>\n",
              "      <th>121</th>\n",
              "      <td>Eastern Connecticut Regional Educational Servi...</td>\n",
              "      <td>0.39</td>\n",
              "      <td>-2.584386</td>\n",
              "    </tr>\n",
              "    <tr>\n",
              "      <th>125</th>\n",
              "      <td>Stamford Academy</td>\n",
              "      <td>0.28</td>\n",
              "      <td>-3.395374</td>\n",
              "    </tr>\n",
              "  </tbody>\n",
              "</table>\n",
              "</div>\n",
              "      <button class=\"colab-df-convert\" onclick=\"convertToInteractive('df-3187c0d6-4470-40d7-a42b-343d0260be80')\"\n",
              "              title=\"Convert this dataframe to an interactive table.\"\n",
              "              style=\"display:none;\">\n",
              "        \n",
              "  <svg xmlns=\"http://www.w3.org/2000/svg\" height=\"24px\"viewBox=\"0 0 24 24\"\n",
              "       width=\"24px\">\n",
              "    <path d=\"M0 0h24v24H0V0z\" fill=\"none\"/>\n",
              "    <path d=\"M18.56 5.44l.94 2.06.94-2.06 2.06-.94-2.06-.94-.94-2.06-.94 2.06-2.06.94zm-11 1L8.5 8.5l.94-2.06 2.06-.94-2.06-.94L8.5 2.5l-.94 2.06-2.06.94zm10 10l.94 2.06.94-2.06 2.06-.94-2.06-.94-.94-2.06-.94 2.06-2.06.94z\"/><path d=\"M17.41 7.96l-1.37-1.37c-.4-.4-.92-.59-1.43-.59-.52 0-1.04.2-1.43.59L10.3 9.45l-7.72 7.72c-.78.78-.78 2.05 0 2.83L4 21.41c.39.39.9.59 1.41.59.51 0 1.02-.2 1.41-.59l7.78-7.78 2.81-2.81c.8-.78.8-2.07 0-2.86zM5.41 20L4 18.59l7.72-7.72 1.47 1.35L5.41 20z\"/>\n",
              "  </svg>\n",
              "      </button>\n",
              "      \n",
              "  <style>\n",
              "    .colab-df-container {\n",
              "      display:flex;\n",
              "      flex-wrap:wrap;\n",
              "      gap: 12px;\n",
              "    }\n",
              "\n",
              "    .colab-df-convert {\n",
              "      background-color: #E8F0FE;\n",
              "      border: none;\n",
              "      border-radius: 50%;\n",
              "      cursor: pointer;\n",
              "      display: none;\n",
              "      fill: #1967D2;\n",
              "      height: 32px;\n",
              "      padding: 0 0 0 0;\n",
              "      width: 32px;\n",
              "    }\n",
              "\n",
              "    .colab-df-convert:hover {\n",
              "      background-color: #E2EBFA;\n",
              "      box-shadow: 0px 1px 2px rgba(60, 64, 67, 0.3), 0px 1px 3px 1px rgba(60, 64, 67, 0.15);\n",
              "      fill: #174EA6;\n",
              "    }\n",
              "\n",
              "    [theme=dark] .colab-df-convert {\n",
              "      background-color: #3B4455;\n",
              "      fill: #D2E3FC;\n",
              "    }\n",
              "\n",
              "    [theme=dark] .colab-df-convert:hover {\n",
              "      background-color: #434B5C;\n",
              "      box-shadow: 0px 1px 3px 1px rgba(0, 0, 0, 0.15);\n",
              "      filter: drop-shadow(0px 1px 2px rgba(0, 0, 0, 0.3));\n",
              "      fill: #FFFFFF;\n",
              "    }\n",
              "  </style>\n",
              "\n",
              "      <script>\n",
              "        const buttonEl =\n",
              "          document.querySelector('#df-3187c0d6-4470-40d7-a42b-343d0260be80 button.colab-df-convert');\n",
              "        buttonEl.style.display =\n",
              "          google.colab.kernel.accessAllowed ? 'block' : 'none';\n",
              "\n",
              "        async function convertToInteractive(key) {\n",
              "          const element = document.querySelector('#df-3187c0d6-4470-40d7-a42b-343d0260be80');\n",
              "          const dataTable =\n",
              "            await google.colab.kernel.invokeFunction('convertToInteractive',\n",
              "                                                     [key], {});\n",
              "          if (!dataTable) return;\n",
              "\n",
              "          const docLinkHtml = 'Like what you see? Visit the ' +\n",
              "            '<a target=\"_blank\" href=https://colab.research.google.com/notebooks/data_table.ipynb>data table notebook</a>'\n",
              "            + ' to learn more about interactive tables.';\n",
              "          element.innerHTML = '';\n",
              "          dataTable['output_type'] = 'display_data';\n",
              "          await google.colab.output.renderOutput(dataTable, element);\n",
              "          const docLink = document.createElement('div');\n",
              "          docLink.innerHTML = docLinkHtml;\n",
              "          element.appendChild(docLink);\n",
              "        }\n",
              "      </script>\n",
              "    </div>\n",
              "  </div>\n",
              "  "
            ],
            "text/plain": [
              "                                              District  ...    zscore\n",
              "50                                         New Britain  ... -2.510660\n",
              "99                                             Windham  ... -2.731839\n",
              "121  Eastern Connecticut Regional Educational Servi...  ... -2.584386\n",
              "125                                   Stamford Academy  ... -3.395374\n",
              "\n",
              "[4 rows x 3 columns]"
            ]
          },
          "metadata": {},
          "execution_count": 12
        }
      ]
    },
    {
      "cell_type": "markdown",
      "source": [
        "We have found our anomalies, but we still have one thing to do: check our assumption that the data can be modeled approximately as a normal distribution. If this is the case, then we have completed our test. If it isn't, then we cannot connect the z-score with probabilities as we did earlier in this notebook.\n",
        "First, let's bin the data and see what it looks like as a histogram."
      ],
      "metadata": {
        "id": "uKNPeT_BWM2V"
      }
    },
    {
      "cell_type": "code",
      "source": [
        "nbins= 20\n",
        "n_hist, bins_hist, patches_hist = plt.hist(ct_test['Participation Rate'], nbins, density=False,\n",
        "                           cumulative=False, linewidth=1.0, label='data')"
      ],
      "metadata": {
        "colab": {
          "base_uri": "https://localhost:8080/",
          "height": 265
        },
        "id": "XP0PQGtjWWWb",
        "outputId": "59a1620e-8711-426d-fed0-c2e6a4abed6f"
      },
      "execution_count": null,
      "outputs": [
        {
          "output_type": "display_data",
          "data": {
            "image/png": "[encoded data removed]",
            "text/plain": [
              "<Figure size 432x288 with 1 Axes>"
            ]
          },
          "metadata": {
            "needs_background": "light"
          }
        }
      ]
    },
    {
      "cell_type": "markdown",
      "source": [
        "This histogram has two maxima and is skewed left, so it is not likely to be normal."
      ],
      "metadata": {
        "id": "JO2qMCd6XQAu"
      }
    },
    {
      "cell_type": "markdown",
      "source": [
        "We can also compare the cumulative distribution function for our data with the CDF of a normal distribution with the same mean and standard deviation of our data."
      ],
      "metadata": {
        "id": "r15bZYlZXSen"
      }
    },
    {
      "cell_type": "code",
      "source": [
        "num_bins = 130\n",
        "normal_dist = [random.gauss(mean_rate, stdev_rate) for _ in range(500)]\n",
        "n, bins, patches = plt.hist(ct_test['Participation Rate'], num_bins, density=True, histtype='step',\n",
        "                           cumulative=True, linewidth=1.0, label='data')\n",
        "plt.hist(normal_dist, num_bins, density=True, histtype='step',\n",
        "                           cumulative=True, linewidth=1.0, label='normal distribution')\n",
        "plt.grid(True)\n",
        "plt.legend(loc='upper left')\n",
        "axes = plt.gca()\n",
        "axes.set_xlim([0.2,1.0])\n",
        "plt.xlabel('Participation Rate')\n",
        "plt.ylabel('Cumulative probability')\n",
        "plt.show()"
      ],
      "metadata": {
        "colab": {
          "base_uri": "https://localhost:8080/",
          "height": 279
        },
        "id": "TW80G-iSXXU8",
        "outputId": "f0177104-84f7-4db6-e1c0-b4a0c92474ae"
      },
      "execution_count": null,
      "outputs": [
        {
          "output_type": "display_data",
          "data": {
            "image/png": "[encoded data removed]",
            "text/plain": [
              "<Figure size 432x288 with 1 Axes>"
            ]
          },
          "metadata": {
            "needs_background": "light"
          }
        }
      ]
    },
    {
      "cell_type": "markdown",
      "source": [
        "##Z-Score vs. Modified Z-Score—World Cup Top Goal Scorers\n",
        "We will now look at a dataset that shows the limitations of z-scores and why the modified z-score can be useful.\n",
        "We will at the number of goals scored by the top goalscorer in every World Cup from 1930 through 2018 (21 competitions in total). The raw data is from here:\n",
        "https://en.wikipedia.org/wiki/FIFA_World_Cup_top_goalscorers\n",
        "The data was cleaned and saved as a CSV. Load it as a dataframe and take a look."
      ],
      "metadata": {
        "id": "dg9WHXB5ZdhF"
      }
    },
    {
      "cell_type": "code",
      "source": [
        "# First row is a header row, but the header names are cumbersome.\n",
        "# Skip first row and manually label\n",
        "# Encoding ensures that accents in sames are rendered properly\n",
        "top_goals = pd.read_csv('/content/world_cup_top_goal_scorers.csv',\n",
        "                        encoding='utf-8',\n",
        "                        names=['Year', 'Player(s)', 'Goals'], skiprows=1)\n",
        "top_goals"
      ],
      "metadata": {
        "colab": {
          "base_uri": "https://localhost:8080/",
          "height": 700
        },
        "id": "H2soChGJZkEJ",
        "outputId": "db09998c-ada7-4dbc-9f28-676d6ac7c511"
      },
      "execution_count": null,
      "outputs": [
        {
          "output_type": "execute_result",
          "data": {
            "text/html": [
              "\n",
              "  <div id=\"df-6cbaf591-6d94-4f0b-89e5-f4d33b181078\">\n",
              "    <div class=\"colab-df-container\">\n",
              "      <div>\n",
              "<style scoped>\n",
              "    .dataframe tbody tr th:only-of-type {\n",
              "        vertical-align: middle;\n",
              "    }\n",
              "\n",
              "    .dataframe tbody tr th {\n",
              "        vertical-align: top;\n",
              "    }\n",
              "\n",
              "    .dataframe thead th {\n",
              "        text-align: right;\n",
              "    }\n",
              "</style>\n",
              "<table border=\"1\" class=\"dataframe\">\n",
              "  <thead>\n",
              "    <tr style=\"text-align: right;\">\n",
              "      <th></th>\n",
              "      <th>Year</th>\n",
              "      <th>Player(s)</th>\n",
              "      <th>Goals</th>\n",
              "    </tr>\n",
              "  </thead>\n",
              "  <tbody>\n",
              "    <tr>\n",
              "      <th>0</th>\n",
              "      <td>1930</td>\n",
              "      <td>Guillermo Stábile</td>\n",
              "      <td>8</td>\n",
              "    </tr>\n",
              "    <tr>\n",
              "      <th>1</th>\n",
              "      <td>1934</td>\n",
              "      <td>Oldřich Nejedlý</td>\n",
              "      <td>5</td>\n",
              "    </tr>\n",
              "    <tr>\n",
              "      <th>2</th>\n",
              "      <td>1938</td>\n",
              "      <td>Leônidas</td>\n",
              "      <td>7</td>\n",
              "    </tr>\n",
              "    <tr>\n",
              "      <th>3</th>\n",
              "      <td>1950</td>\n",
              "      <td>Ademir</td>\n",
              "      <td>8</td>\n",
              "    </tr>\n",
              "    <tr>\n",
              "      <th>4</th>\n",
              "      <td>1954</td>\n",
              "      <td>Sándor Kocsis</td>\n",
              "      <td>11</td>\n",
              "    </tr>\n",
              "    <tr>\n",
              "      <th>5</th>\n",
              "      <td>1958</td>\n",
              "      <td>Just Fontaine</td>\n",
              "      <td>13</td>\n",
              "    </tr>\n",
              "    <tr>\n",
              "      <th>6</th>\n",
              "      <td>1962</td>\n",
              "      <td>Garrincha, Vavá, Leonel Sánchez, Flórián Alber...</td>\n",
              "      <td>4</td>\n",
              "    </tr>\n",
              "    <tr>\n",
              "      <th>7</th>\n",
              "      <td>1966</td>\n",
              "      <td>Eusébio</td>\n",
              "      <td>9</td>\n",
              "    </tr>\n",
              "    <tr>\n",
              "      <th>8</th>\n",
              "      <td>1970</td>\n",
              "      <td>Gerd Müller</td>\n",
              "      <td>10</td>\n",
              "    </tr>\n",
              "    <tr>\n",
              "      <th>9</th>\n",
              "      <td>1974</td>\n",
              "      <td>Grzegorz Lato</td>\n",
              "      <td>7</td>\n",
              "    </tr>\n",
              "    <tr>\n",
              "      <th>10</th>\n",
              "      <td>1978</td>\n",
              "      <td>Mario Kempes</td>\n",
              "      <td>6</td>\n",
              "    </tr>\n",
              "    <tr>\n",
              "      <th>11</th>\n",
              "      <td>1982</td>\n",
              "      <td>Paolo Rossi</td>\n",
              "      <td>6</td>\n",
              "    </tr>\n",
              "    <tr>\n",
              "      <th>12</th>\n",
              "      <td>1986</td>\n",
              "      <td>Gary Lineker</td>\n",
              "      <td>6</td>\n",
              "    </tr>\n",
              "    <tr>\n",
              "      <th>13</th>\n",
              "      <td>1990</td>\n",
              "      <td>Salvatore Schillaci</td>\n",
              "      <td>6</td>\n",
              "    </tr>\n",
              "    <tr>\n",
              "      <th>14</th>\n",
              "      <td>1994</td>\n",
              "      <td>Hristo Stoichkov, Oleg Salenko</td>\n",
              "      <td>6</td>\n",
              "    </tr>\n",
              "    <tr>\n",
              "      <th>15</th>\n",
              "      <td>1998</td>\n",
              "      <td>Davor Šuker</td>\n",
              "      <td>6</td>\n",
              "    </tr>\n",
              "    <tr>\n",
              "      <th>16</th>\n",
              "      <td>2002</td>\n",
              "      <td>Ronaldo</td>\n",
              "      <td>8</td>\n",
              "    </tr>\n",
              "    <tr>\n",
              "      <th>17</th>\n",
              "      <td>2006</td>\n",
              "      <td>Miroslav Klose</td>\n",
              "      <td>5</td>\n",
              "    </tr>\n",
              "    <tr>\n",
              "      <th>18</th>\n",
              "      <td>2010</td>\n",
              "      <td>Thomas Müller, David Villa, Wesley Sneijder, D...</td>\n",
              "      <td>5</td>\n",
              "    </tr>\n",
              "    <tr>\n",
              "      <th>19</th>\n",
              "      <td>2014</td>\n",
              "      <td>James Rodríguez</td>\n",
              "      <td>6</td>\n",
              "    </tr>\n",
              "    <tr>\n",
              "      <th>20</th>\n",
              "      <td>2018</td>\n",
              "      <td>Harry Kane</td>\n",
              "      <td>6</td>\n",
              "    </tr>\n",
              "  </tbody>\n",
              "</table>\n",
              "</div>\n",
              "      <button class=\"colab-df-convert\" onclick=\"convertToInteractive('df-6cbaf591-6d94-4f0b-89e5-f4d33b181078')\"\n",
              "              title=\"Convert this dataframe to an interactive table.\"\n",
              "              style=\"display:none;\">\n",
              "        \n",
              "  <svg xmlns=\"http://www.w3.org/2000/svg\" height=\"24px\"viewBox=\"0 0 24 24\"\n",
              "       width=\"24px\">\n",
              "    <path d=\"M0 0h24v24H0V0z\" fill=\"none\"/>\n",
              "    <path d=\"M18.56 5.44l.94 2.06.94-2.06 2.06-.94-2.06-.94-.94-2.06-.94 2.06-2.06.94zm-11 1L8.5 8.5l.94-2.06 2.06-.94-2.06-.94L8.5 2.5l-.94 2.06-2.06.94zm10 10l.94 2.06.94-2.06 2.06-.94-2.06-.94-.94-2.06-.94 2.06-2.06.94z\"/><path d=\"M17.41 7.96l-1.37-1.37c-.4-.4-.92-.59-1.43-.59-.52 0-1.04.2-1.43.59L10.3 9.45l-7.72 7.72c-.78.78-.78 2.05 0 2.83L4 21.41c.39.39.9.59 1.41.59.51 0 1.02-.2 1.41-.59l7.78-7.78 2.81-2.81c.8-.78.8-2.07 0-2.86zM5.41 20L4 18.59l7.72-7.72 1.47 1.35L5.41 20z\"/>\n",
              "  </svg>\n",
              "      </button>\n",
              "      \n",
              "  <style>\n",
              "    .colab-df-container {\n",
              "      display:flex;\n",
              "      flex-wrap:wrap;\n",
              "      gap: 12px;\n",
              "    }\n",
              "\n",
              "    .colab-df-convert {\n",
              "      background-color: #E8F0FE;\n",
              "      border: none;\n",
              "      border-radius: 50%;\n",
              "      cursor: pointer;\n",
              "      display: none;\n",
              "      fill: #1967D2;\n",
              "      height: 32px;\n",
              "      padding: 0 0 0 0;\n",
              "      width: 32px;\n",
              "    }\n",
              "\n",
              "    .colab-df-convert:hover {\n",
              "      background-color: #E2EBFA;\n",
              "      box-shadow: 0px 1px 2px rgba(60, 64, 67, 0.3), 0px 1px 3px 1px rgba(60, 64, 67, 0.15);\n",
              "      fill: #174EA6;\n",
              "    }\n",
              "\n",
              "    [theme=dark] .colab-df-convert {\n",
              "      background-color: #3B4455;\n",
              "      fill: #D2E3FC;\n",
              "    }\n",
              "\n",
              "    [theme=dark] .colab-df-convert:hover {\n",
              "      background-color: #434B5C;\n",
              "      box-shadow: 0px 1px 3px 1px rgba(0, 0, 0, 0.15);\n",
              "      filter: drop-shadow(0px 1px 2px rgba(0, 0, 0, 0.3));\n",
              "      fill: #FFFFFF;\n",
              "    }\n",
              "  </style>\n",
              "\n",
              "      <script>\n",
              "        const buttonEl =\n",
              "          document.querySelector('#df-6cbaf591-6d94-4f0b-89e5-f4d33b181078 button.colab-df-convert');\n",
              "        buttonEl.style.display =\n",
              "          google.colab.kernel.accessAllowed ? 'block' : 'none';\n",
              "\n",
              "        async function convertToInteractive(key) {\n",
              "          const element = document.querySelector('#df-6cbaf591-6d94-4f0b-89e5-f4d33b181078');\n",
              "          const dataTable =\n",
              "            await google.colab.kernel.invokeFunction('convertToInteractive',\n",
              "                                                     [key], {});\n",
              "          if (!dataTable) return;\n",
              "\n",
              "          const docLinkHtml = 'Like what you see? Visit the ' +\n",
              "            '<a target=\"_blank\" href=https://colab.research.google.com/notebooks/data_table.ipynb>data table notebook</a>'\n",
              "            + ' to learn more about interactive tables.';\n",
              "          element.innerHTML = '';\n",
              "          dataTable['output_type'] = 'display_data';\n",
              "          await google.colab.output.renderOutput(dataTable, element);\n",
              "          const docLink = document.createElement('div');\n",
              "          docLink.innerHTML = docLinkHtml;\n",
              "          element.appendChild(docLink);\n",
              "        }\n",
              "      </script>\n",
              "    </div>\n",
              "  </div>\n",
              "  "
            ],
            "text/plain": [
              "    Year                                          Player(s)  Goals\n",
              "0   1930                                  Guillermo Stábile      8\n",
              "1   1934                                    Oldřich Nejedlý      5\n",
              "2   1938                                           Leônidas      7\n",
              "3   1950                                             Ademir      8\n",
              "4   1954                                      Sándor Kocsis     11\n",
              "5   1958                                      Just Fontaine     13\n",
              "6   1962  Garrincha, Vavá, Leonel Sánchez, Flórián Alber...      4\n",
              "7   1966                                            Eusébio      9\n",
              "8   1970                                        Gerd Müller     10\n",
              "9   1974                                      Grzegorz Lato      7\n",
              "10  1978                                       Mario Kempes      6\n",
              "11  1982                                        Paolo Rossi      6\n",
              "12  1986                                       Gary Lineker      6\n",
              "13  1990                                Salvatore Schillaci      6\n",
              "14  1994                     Hristo Stoichkov, Oleg Salenko      6\n",
              "15  1998                                        Davor Šuker      6\n",
              "16  2002                                            Ronaldo      8\n",
              "17  2006                                     Miroslav Klose      5\n",
              "18  2010  Thomas Müller, David Villa, Wesley Sneijder, D...      5\n",
              "19  2014                                    James Rodríguez      6\n",
              "20  2018                                         Harry Kane      6"
            ]
          },
          "metadata": {},
          "execution_count": 15
        }
      ]
    },
    {
      "cell_type": "markdown",
      "source": [
        "Once again will start by using the z-score to identify anomalies. As we are interested in the superstars, this time we will have an upper threshold. We choose  z=+2\n",
        " . Above this z-score, any player will be labeled as an anomaly.\n",
        "As before, we calculate the mean and standard deviation."
      ],
      "metadata": {
        "id": "WY3KU21uZzqt"
      }
    },
    {
      "cell_type": "code",
      "source": [
        "mean_goals = top_goals['Goals'].mean()\n",
        "stdev_goals = top_goals['Goals'].std(ddof=0)\n",
        "print('Mean number of goals is {:.2f}'.format(mean_goals))\n",
        "print('Standard deviation is {:.2f}'.format(stdev_goals))"
      ],
      "metadata": {
        "colab": {
          "base_uri": "https://localhost:8080/"
        },
        "id": "P9TI3LDjZ3V6",
        "outputId": "5da738db-57c6-4ef3-ce3e-572576384808"
      },
      "execution_count": null,
      "outputs": [
        {
          "output_type": "stream",
          "name": "stdout",
          "text": [
            "Mean number of goals is 7.05\n",
            "Standard deviation is 2.15\n"
          ]
        }
      ]
    },
    {
      "cell_type": "markdown",
      "source": [
        "Calculate the z-score for each player and add the result to the dataframe."
      ],
      "metadata": {
        "id": "CDko0ZCYZ7Pi"
      }
    },
    {
      "cell_type": "code",
      "source": [
        "zscore_goals = ss.zscore(top_goals['Goals'], ddof=0)\n",
        "top_goals = top_goals.assign(zscore=zscore_goals)\n",
        "top_goals.head(21)"
      ],
      "metadata": {
        "colab": {
          "base_uri": "https://localhost:8080/",
          "height": 700
        },
        "id": "yUQc1WwpZ98G",
        "outputId": "cff85f55-9ab9-47a4-fd16-8c7cc71bc453"
      },
      "execution_count": null,
      "outputs": [
        {
          "output_type": "execute_result",
          "data": {
            "text/html": [
              "\n",
              "  <div id=\"df-ffdc419e-53ae-47d8-b700-a9a128b87ce7\">\n",
              "    <div class=\"colab-df-container\">\n",
              "      <div>\n",
              "<style scoped>\n",
              "    .dataframe tbody tr th:only-of-type {\n",
              "        vertical-align: middle;\n",
              "    }\n",
              "\n",
              "    .dataframe tbody tr th {\n",
              "        vertical-align: top;\n",
              "    }\n",
              "\n",
              "    .dataframe thead th {\n",
              "        text-align: right;\n",
              "    }\n",
              "</style>\n",
              "<table border=\"1\" class=\"dataframe\">\n",
              "  <thead>\n",
              "    <tr style=\"text-align: right;\">\n",
              "      <th></th>\n",
              "      <th>Year</th>\n",
              "      <th>Player(s)</th>\n",
              "      <th>Goals</th>\n",
              "      <th>zscore</th>\n",
              "    </tr>\n",
              "  </thead>\n",
              "  <tbody>\n",
              "    <tr>\n",
              "      <th>0</th>\n",
              "      <td>1930</td>\n",
              "      <td>Guillermo Stábile</td>\n",
              "      <td>8</td>\n",
              "      <td>0.443242</td>\n",
              "    </tr>\n",
              "    <tr>\n",
              "      <th>1</th>\n",
              "      <td>1934</td>\n",
              "      <td>Oldřich Nejedlý</td>\n",
              "      <td>5</td>\n",
              "      <td>-0.952971</td>\n",
              "    </tr>\n",
              "    <tr>\n",
              "      <th>2</th>\n",
              "      <td>1938</td>\n",
              "      <td>Leônidas</td>\n",
              "      <td>7</td>\n",
              "      <td>-0.022162</td>\n",
              "    </tr>\n",
              "    <tr>\n",
              "      <th>3</th>\n",
              "      <td>1950</td>\n",
              "      <td>Ademir</td>\n",
              "      <td>8</td>\n",
              "      <td>0.443242</td>\n",
              "    </tr>\n",
              "    <tr>\n",
              "      <th>4</th>\n",
              "      <td>1954</td>\n",
              "      <td>Sándor Kocsis</td>\n",
              "      <td>11</td>\n",
              "      <td>1.839455</td>\n",
              "    </tr>\n",
              "    <tr>\n",
              "      <th>5</th>\n",
              "      <td>1958</td>\n",
              "      <td>Just Fontaine</td>\n",
              "      <td>13</td>\n",
              "      <td>2.770264</td>\n",
              "    </tr>\n",
              "    <tr>\n",
              "      <th>6</th>\n",
              "      <td>1962</td>\n",
              "      <td>Garrincha, Vavá, Leonel Sánchez, Flórián Alber...</td>\n",
              "      <td>4</td>\n",
              "      <td>-1.418375</td>\n",
              "    </tr>\n",
              "    <tr>\n",
              "      <th>7</th>\n",
              "      <td>1966</td>\n",
              "      <td>Eusébio</td>\n",
              "      <td>9</td>\n",
              "      <td>0.908647</td>\n",
              "    </tr>\n",
              "    <tr>\n",
              "      <th>8</th>\n",
              "      <td>1970</td>\n",
              "      <td>Gerd Müller</td>\n",
              "      <td>10</td>\n",
              "      <td>1.374051</td>\n",
              "    </tr>\n",
              "    <tr>\n",
              "      <th>9</th>\n",
              "      <td>1974</td>\n",
              "      <td>Grzegorz Lato</td>\n",
              "      <td>7</td>\n",
              "      <td>-0.022162</td>\n",
              "    </tr>\n",
              "    <tr>\n",
              "      <th>10</th>\n",
              "      <td>1978</td>\n",
              "      <td>Mario Kempes</td>\n",
              "      <td>6</td>\n",
              "      <td>-0.487566</td>\n",
              "    </tr>\n",
              "    <tr>\n",
              "      <th>11</th>\n",
              "      <td>1982</td>\n",
              "      <td>Paolo Rossi</td>\n",
              "      <td>6</td>\n",
              "      <td>-0.487566</td>\n",
              "    </tr>\n",
              "    <tr>\n",
              "      <th>12</th>\n",
              "      <td>1986</td>\n",
              "      <td>Gary Lineker</td>\n",
              "      <td>6</td>\n",
              "      <td>-0.487566</td>\n",
              "    </tr>\n",
              "    <tr>\n",
              "      <th>13</th>\n",
              "      <td>1990</td>\n",
              "      <td>Salvatore Schillaci</td>\n",
              "      <td>6</td>\n",
              "      <td>-0.487566</td>\n",
              "    </tr>\n",
              "    <tr>\n",
              "      <th>14</th>\n",
              "      <td>1994</td>\n",
              "      <td>Hristo Stoichkov, Oleg Salenko</td>\n",
              "      <td>6</td>\n",
              "      <td>-0.487566</td>\n",
              "    </tr>\n",
              "    <tr>\n",
              "      <th>15</th>\n",
              "      <td>1998</td>\n",
              "      <td>Davor Šuker</td>\n",
              "      <td>6</td>\n",
              "      <td>-0.487566</td>\n",
              "    </tr>\n",
              "    <tr>\n",
              "      <th>16</th>\n",
              "      <td>2002</td>\n",
              "      <td>Ronaldo</td>\n",
              "      <td>8</td>\n",
              "      <td>0.443242</td>\n",
              "    </tr>\n",
              "    <tr>\n",
              "      <th>17</th>\n",
              "      <td>2006</td>\n",
              "      <td>Miroslav Klose</td>\n",
              "      <td>5</td>\n",
              "      <td>-0.952971</td>\n",
              "    </tr>\n",
              "    <tr>\n",
              "      <th>18</th>\n",
              "      <td>2010</td>\n",
              "      <td>Thomas Müller, David Villa, Wesley Sneijder, D...</td>\n",
              "      <td>5</td>\n",
              "      <td>-0.952971</td>\n",
              "    </tr>\n",
              "    <tr>\n",
              "      <th>19</th>\n",
              "      <td>2014</td>\n",
              "      <td>James Rodríguez</td>\n",
              "      <td>6</td>\n",
              "      <td>-0.487566</td>\n",
              "    </tr>\n",
              "    <tr>\n",
              "      <th>20</th>\n",
              "      <td>2018</td>\n",
              "      <td>Harry Kane</td>\n",
              "      <td>6</td>\n",
              "      <td>-0.487566</td>\n",
              "    </tr>\n",
              "  </tbody>\n",
              "</table>\n",
              "</div>\n",
              "      <button class=\"colab-df-convert\" onclick=\"convertToInteractive('df-ffdc419e-53ae-47d8-b700-a9a128b87ce7')\"\n",
              "              title=\"Convert this dataframe to an interactive table.\"\n",
              "              style=\"display:none;\">\n",
              "        \n",
              "  <svg xmlns=\"http://www.w3.org/2000/svg\" height=\"24px\"viewBox=\"0 0 24 24\"\n",
              "       width=\"24px\">\n",
              "    <path d=\"M0 0h24v24H0V0z\" fill=\"none\"/>\n",
              "    <path d=\"M18.56 5.44l.94 2.06.94-2.06 2.06-.94-2.06-.94-.94-2.06-.94 2.06-2.06.94zm-11 1L8.5 8.5l.94-2.06 2.06-.94-2.06-.94L8.5 2.5l-.94 2.06-2.06.94zm10 10l.94 2.06.94-2.06 2.06-.94-2.06-.94-.94-2.06-.94 2.06-2.06.94z\"/><path d=\"M17.41 7.96l-1.37-1.37c-.4-.4-.92-.59-1.43-.59-.52 0-1.04.2-1.43.59L10.3 9.45l-7.72 7.72c-.78.78-.78 2.05 0 2.83L4 21.41c.39.39.9.59 1.41.59.51 0 1.02-.2 1.41-.59l7.78-7.78 2.81-2.81c.8-.78.8-2.07 0-2.86zM5.41 20L4 18.59l7.72-7.72 1.47 1.35L5.41 20z\"/>\n",
              "  </svg>\n",
              "      </button>\n",
              "      \n",
              "  <style>\n",
              "    .colab-df-container {\n",
              "      display:flex;\n",
              "      flex-wrap:wrap;\n",
              "      gap: 12px;\n",
              "    }\n",
              "\n",
              "    .colab-df-convert {\n",
              "      background-color: #E8F0FE;\n",
              "      border: none;\n",
              "      border-radius: 50%;\n",
              "      cursor: pointer;\n",
              "      display: none;\n",
              "      fill: #1967D2;\n",
              "      height: 32px;\n",
              "      padding: 0 0 0 0;\n",
              "      width: 32px;\n",
              "    }\n",
              "\n",
              "    .colab-df-convert:hover {\n",
              "      background-color: #E2EBFA;\n",
              "      box-shadow: 0px 1px 2px rgba(60, 64, 67, 0.3), 0px 1px 3px 1px rgba(60, 64, 67, 0.15);\n",
              "      fill: #174EA6;\n",
              "    }\n",
              "\n",
              "    [theme=dark] .colab-df-convert {\n",
              "      background-color: #3B4455;\n",
              "      fill: #D2E3FC;\n",
              "    }\n",
              "\n",
              "    [theme=dark] .colab-df-convert:hover {\n",
              "      background-color: #434B5C;\n",
              "      box-shadow: 0px 1px 3px 1px rgba(0, 0, 0, 0.15);\n",
              "      filter: drop-shadow(0px 1px 2px rgba(0, 0, 0, 0.3));\n",
              "      fill: #FFFFFF;\n",
              "    }\n",
              "  </style>\n",
              "\n",
              "      <script>\n",
              "        const buttonEl =\n",
              "          document.querySelector('#df-ffdc419e-53ae-47d8-b700-a9a128b87ce7 button.colab-df-convert');\n",
              "        buttonEl.style.display =\n",
              "          google.colab.kernel.accessAllowed ? 'block' : 'none';\n",
              "\n",
              "        async function convertToInteractive(key) {\n",
              "          const element = document.querySelector('#df-ffdc419e-53ae-47d8-b700-a9a128b87ce7');\n",
              "          const dataTable =\n",
              "            await google.colab.kernel.invokeFunction('convertToInteractive',\n",
              "                                                     [key], {});\n",
              "          if (!dataTable) return;\n",
              "\n",
              "          const docLinkHtml = 'Like what you see? Visit the ' +\n",
              "            '<a target=\"_blank\" href=https://colab.research.google.com/notebooks/data_table.ipynb>data table notebook</a>'\n",
              "            + ' to learn more about interactive tables.';\n",
              "          element.innerHTML = '';\n",
              "          dataTable['output_type'] = 'display_data';\n",
              "          await google.colab.output.renderOutput(dataTable, element);\n",
              "          const docLink = document.createElement('div');\n",
              "          docLink.innerHTML = docLinkHtml;\n",
              "          element.appendChild(docLink);\n",
              "        }\n",
              "      </script>\n",
              "    </div>\n",
              "  </div>\n",
              "  "
            ],
            "text/plain": [
              "    Year                                          Player(s)  Goals    zscore\n",
              "0   1930                                  Guillermo Stábile      8  0.443242\n",
              "1   1934                                    Oldřich Nejedlý      5 -0.952971\n",
              "2   1938                                           Leônidas      7 -0.022162\n",
              "3   1950                                             Ademir      8  0.443242\n",
              "4   1954                                      Sándor Kocsis     11  1.839455\n",
              "5   1958                                      Just Fontaine     13  2.770264\n",
              "6   1962  Garrincha, Vavá, Leonel Sánchez, Flórián Alber...      4 -1.418375\n",
              "7   1966                                            Eusébio      9  0.908647\n",
              "8   1970                                        Gerd Müller     10  1.374051\n",
              "9   1974                                      Grzegorz Lato      7 -0.022162\n",
              "10  1978                                       Mario Kempes      6 -0.487566\n",
              "11  1982                                        Paolo Rossi      6 -0.487566\n",
              "12  1986                                       Gary Lineker      6 -0.487566\n",
              "13  1990                                Salvatore Schillaci      6 -0.487566\n",
              "14  1994                     Hristo Stoichkov, Oleg Salenko      6 -0.487566\n",
              "15  1998                                        Davor Šuker      6 -0.487566\n",
              "16  2002                                            Ronaldo      8  0.443242\n",
              "17  2006                                     Miroslav Klose      5 -0.952971\n",
              "18  2010  Thomas Müller, David Villa, Wesley Sneijder, D...      5 -0.952971\n",
              "19  2014                                    James Rodríguez      6 -0.487566\n",
              "20  2018                                         Harry Kane      6 -0.487566"
            ]
          },
          "metadata": {},
          "execution_count": 17
        }
      ]
    },
    {
      "cell_type": "markdown",
      "source": [
        "Now, modify the previous plotting function to display the results."
      ],
      "metadata": {
        "id": "Oex5wWbKaEx4"
      }
    },
    {
      "cell_type": "code",
      "source": [
        "def plot_anomaly_goals(score_data, threshold):\n",
        "    score_data = score_data.copy().sort_values(ascending=False).values\n",
        "    ranks = np.linspace(1, len(score_data), len(score_data))\n",
        "    mask_outlier = (score_data > threshold)\n",
        "\n",
        "    plt.figure(dpi=150)\n",
        "    plt.plot(ranks[mask_outlier], score_data[mask_outlier], 'o', color='r', label='anomalies')\n",
        "    plt.plot(ranks[~mask_outlier], score_data[~mask_outlier], 'o', color='b', label='typical player')\n",
        "    plt.axhline(threshold,color='r', label='threshold', alpha=0.5)\n",
        "    plt.legend(loc='upper right')\n",
        "    plt.title('Z-score vs. player', fontweight='bold')\n",
        "    plt.xticks(np.arange(0, 21, step=2.0))\n",
        "    plt.xlabel('Player Rank')\n",
        "    plt.ylabel('Z-score')\n",
        "    plt.show()"
      ],
      "metadata": {
        "id": "-sa0MJcRaHpo"
      },
      "execution_count": null,
      "outputs": []
    },
    {
      "cell_type": "code",
      "source": [
        "plot_anomaly_goals(top_goals['zscore'], 2)"
      ],
      "metadata": {
        "colab": {
          "base_uri": "https://localhost:8080/",
          "height": 594
        },
        "id": "i58-WNU1aNGU",
        "outputId": "db35fd51-b081-4bb4-c179-44e569e7732a"
      },
      "execution_count": null,
      "outputs": [
        {
          "output_type": "display_data",
          "data": {
            "image/png": "[encoded data removed]",
            "text/plain": [
              "<Figure size 900x600 with 1 Axes>"
            ]
          },
          "metadata": {
            "needs_background": "light"
          }
        }
      ]
    },
    {
      "cell_type": "markdown",
      "source": [
        "Only one player is picked out: Just Fontaine."
      ],
      "metadata": {
        "id": "DoVRMSxWaSka"
      }
    },
    {
      "cell_type": "code",
      "source": [
        "zscore_anomalies_players = top_goals[(top_goals['zscore'] > 2)]\n",
        "zscore_anomalies_players"
      ],
      "metadata": {
        "colab": {
          "base_uri": "https://localhost:8080/",
          "height": 80
        },
        "id": "dq3YD55SaVO6",
        "outputId": "dbe8c548-e89f-432a-91ce-6dce60f6ad0b"
      },
      "execution_count": null,
      "outputs": [
        {
          "output_type": "execute_result",
          "data": {
            "text/html": [
              "\n",
              "  <div id=\"df-caa087d4-6340-4c56-ad2c-ecde4ee052e9\">\n",
              "    <div class=\"colab-df-container\">\n",
              "      <div>\n",
              "<style scoped>\n",
              "    .dataframe tbody tr th:only-of-type {\n",
              "        vertical-align: middle;\n",
              "    }\n",
              "\n",
              "    .dataframe tbody tr th {\n",
              "        vertical-align: top;\n",
              "    }\n",
              "\n",
              "    .dataframe thead th {\n",
              "        text-align: right;\n",
              "    }\n",
              "</style>\n",
              "<table border=\"1\" class=\"dataframe\">\n",
              "  <thead>\n",
              "    <tr style=\"text-align: right;\">\n",
              "      <th></th>\n",
              "      <th>Year</th>\n",
              "      <th>Player(s)</th>\n",
              "      <th>Goals</th>\n",
              "      <th>zscore</th>\n",
              "    </tr>\n",
              "  </thead>\n",
              "  <tbody>\n",
              "    <tr>\n",
              "      <th>5</th>\n",
              "      <td>1958</td>\n",
              "      <td>Just Fontaine</td>\n",
              "      <td>13</td>\n",
              "      <td>2.770264</td>\n",
              "    </tr>\n",
              "  </tbody>\n",
              "</table>\n",
              "</div>\n",
              "      <button class=\"colab-df-convert\" onclick=\"convertToInteractive('df-caa087d4-6340-4c56-ad2c-ecde4ee052e9')\"\n",
              "              title=\"Convert this dataframe to an interactive table.\"\n",
              "              style=\"display:none;\">\n",
              "        \n",
              "  <svg xmlns=\"http://www.w3.org/2000/svg\" height=\"24px\"viewBox=\"0 0 24 24\"\n",
              "       width=\"24px\">\n",
              "    <path d=\"M0 0h24v24H0V0z\" fill=\"none\"/>\n",
              "    <path d=\"M18.56 5.44l.94 2.06.94-2.06 2.06-.94-2.06-.94-.94-2.06-.94 2.06-2.06.94zm-11 1L8.5 8.5l.94-2.06 2.06-.94-2.06-.94L8.5 2.5l-.94 2.06-2.06.94zm10 10l.94 2.06.94-2.06 2.06-.94-2.06-.94-.94-2.06-.94 2.06-2.06.94z\"/><path d=\"M17.41 7.96l-1.37-1.37c-.4-.4-.92-.59-1.43-.59-.52 0-1.04.2-1.43.59L10.3 9.45l-7.72 7.72c-.78.78-.78 2.05 0 2.83L4 21.41c.39.39.9.59 1.41.59.51 0 1.02-.2 1.41-.59l7.78-7.78 2.81-2.81c.8-.78.8-2.07 0-2.86zM5.41 20L4 18.59l7.72-7.72 1.47 1.35L5.41 20z\"/>\n",
              "  </svg>\n",
              "      </button>\n",
              "      \n",
              "  <style>\n",
              "    .colab-df-container {\n",
              "      display:flex;\n",
              "      flex-wrap:wrap;\n",
              "      gap: 12px;\n",
              "    }\n",
              "\n",
              "    .colab-df-convert {\n",
              "      background-color: #E8F0FE;\n",
              "      border: none;\n",
              "      border-radius: 50%;\n",
              "      cursor: pointer;\n",
              "      display: none;\n",
              "      fill: #1967D2;\n",
              "      height: 32px;\n",
              "      padding: 0 0 0 0;\n",
              "      width: 32px;\n",
              "    }\n",
              "\n",
              "    .colab-df-convert:hover {\n",
              "      background-color: #E2EBFA;\n",
              "      box-shadow: 0px 1px 2px rgba(60, 64, 67, 0.3), 0px 1px 3px 1px rgba(60, 64, 67, 0.15);\n",
              "      fill: #174EA6;\n",
              "    }\n",
              "\n",
              "    [theme=dark] .colab-df-convert {\n",
              "      background-color: #3B4455;\n",
              "      fill: #D2E3FC;\n",
              "    }\n",
              "\n",
              "    [theme=dark] .colab-df-convert:hover {\n",
              "      background-color: #434B5C;\n",
              "      box-shadow: 0px 1px 3px 1px rgba(0, 0, 0, 0.15);\n",
              "      filter: drop-shadow(0px 1px 2px rgba(0, 0, 0, 0.3));\n",
              "      fill: #FFFFFF;\n",
              "    }\n",
              "  </style>\n",
              "\n",
              "      <script>\n",
              "        const buttonEl =\n",
              "          document.querySelector('#df-caa087d4-6340-4c56-ad2c-ecde4ee052e9 button.colab-df-convert');\n",
              "        buttonEl.style.display =\n",
              "          google.colab.kernel.accessAllowed ? 'block' : 'none';\n",
              "\n",
              "        async function convertToInteractive(key) {\n",
              "          const element = document.querySelector('#df-caa087d4-6340-4c56-ad2c-ecde4ee052e9');\n",
              "          const dataTable =\n",
              "            await google.colab.kernel.invokeFunction('convertToInteractive',\n",
              "                                                     [key], {});\n",
              "          if (!dataTable) return;\n",
              "\n",
              "          const docLinkHtml = 'Like what you see? Visit the ' +\n",
              "            '<a target=\"_blank\" href=https://colab.research.google.com/notebooks/data_table.ipynb>data table notebook</a>'\n",
              "            + ' to learn more about interactive tables.';\n",
              "          element.innerHTML = '';\n",
              "          dataTable['output_type'] = 'display_data';\n",
              "          await google.colab.output.renderOutput(dataTable, element);\n",
              "          const docLink = document.createElement('div');\n",
              "          docLink.innerHTML = docLinkHtml;\n",
              "          element.appendChild(docLink);\n",
              "        }\n",
              "      </script>\n",
              "    </div>\n",
              "  </div>\n",
              "  "
            ],
            "text/plain": [
              "   Year      Player(s)  Goals    zscore\n",
              "5  1958  Just Fontaine     13  2.770264"
            ]
          },
          "metadata": {},
          "execution_count": 20
        }
      ]
    },
    {
      "cell_type": "markdown",
      "source": [
        "Fontaine was indeed an amazing player, but clearly our analysis is flawed. By looking at the plot, we see that in 12 out of 21 competitions, the top goalscorer(s) scored less than the mean number of goals (7.05).\n",
        "\n",
        "Question: What's going on?\n",
        "\n",
        "Answer: the mean and standard deviation are themselves susceptible to the presence of anomalies. With his 13 goals, the amazing Fontaine is raising the mean so much that most players fall below it. As a result, he becomes the only anomaly.\n",
        "Let's repeat this analysis with the modified z-score and see what happens."
      ],
      "metadata": {
        "id": "tFhPWmdDagg_"
      }
    },
    {
      "cell_type": "code",
      "source": [
        "median_goals = np.median(top_goals['Goals'])\n",
        "median_goals"
      ],
      "metadata": {
        "colab": {
          "base_uri": "https://localhost:8080/"
        },
        "id": "zyGouWynayp1",
        "outputId": "dbac492d-b878-427c-87e0-dd8f24adec8a"
      },
      "execution_count": null,
      "outputs": [
        {
          "output_type": "execute_result",
          "data": {
            "text/plain": [
              "6.0"
            ]
          },
          "metadata": {},
          "execution_count": 21
        }
      ]
    },
    {
      "cell_type": "markdown",
      "source": [
        "Note that the median (6.0) is lower than the mean (7.05) as would be expected from the plot.\n",
        "Now calculate the modified z-score. Recall that in lectures this was defined for each data point xi\n",
        " as follows:\n",
        "yi=(xi−X̃ )/MAD\n",
        "where X̃\n",
        " is the median of the data and MAD is the median of the absolute deviation from the median.\n",
        "Here we are going to make a slight modification and introduce a consistency correction k\n",
        ", which allows us to use MAD as a consistent estimate for the standard deviation. The value of k\n",
        " depends on the underlying distribution of the data. For simplicity, we will use the value for a normal distribution k=1.4826\n",
        " (see https://en.wikipedia.org/wiki/Median_absolute_deviation).\n",
        "Note: Correction factor of k=1.4826\n",
        " still assumes the underlying data is normal!\n",
        "So the modified z-score becomes\n",
        "yi=(xi−X̃ )/(k∗MAD)\n",
        "and this is the form we will use in the function below."
      ],
      "metadata": {
        "id": "HX3YkdP9a22R"
      }
    },
    {
      "cell_type": "code",
      "source": [
        "def modified_zscore(data, consistency_correction=1.4826):\n",
        "    \"\"\"\n",
        "    Returns the modified z score and Median Absolute Deviation (MAD) from the scores in data.\n",
        "    The consistency_correction factor converts the MAD to the standard deviation for a given\n",
        "    distribution. The default value (1.4826) is the conversion factor if the underlying data\n",
        "    is normally distributed\n",
        "    \"\"\"\n",
        "    median = np.median(data)\n",
        "\n",
        "    deviation_from_med = np.array(data) - median\n",
        "\n",
        "    mad = np.median(np.abs(deviation_from_med))\n",
        "    mod_zscore = deviation_from_med/(consistency_correction*mad)\n",
        "    return mod_zscore, mad"
      ],
      "metadata": {
        "id": "0S1V377Ya8cF"
      },
      "execution_count": null,
      "outputs": []
    },
    {
      "cell_type": "markdown",
      "source": [
        "As before, compute the modified z-score for all players then plot and list the results. Note that the threshold remains the same at  y=+2\n",
        " ."
      ],
      "metadata": {
        "id": "On6rKWGLa_zQ"
      }
    },
    {
      "cell_type": "code",
      "source": [
        "mod_zscore_goals, mad_goals = modified_zscore(top_goals['Goals'])\n",
        "top_goals = top_goals.assign(mod_zscore=mod_zscore_goals)"
      ],
      "metadata": {
        "id": "S4MNvo11bCZW"
      },
      "execution_count": null,
      "outputs": []
    },
    {
      "cell_type": "code",
      "source": [
        "def plot_anomaly_goals_2(score_data, threshold):\n",
        "    score_data = score_data.copy().sort_values(ascending=False).values\n",
        "    ranks = np.linspace(1, len(score_data), len(score_data))\n",
        "    mask_outliers = (score_data > threshold)\n",
        "\n",
        "    plt.figure(dpi=150)\n",
        "    plt.plot(ranks[mask_outliers], score_data[mask_outliers],'o', color='r',label='anomalies')\n",
        "    plt.plot(ranks[~mask_outliers], score_data[~mask_outliers],'o', color='b', label='typical player')\n",
        "    plt.axhline(threshold,color='r',label='threshold', alpha=0.5)\n",
        "    plt.legend(loc = 'upper right')\n",
        "    plt.title('Modified z-score vs. player', fontweight='bold')\n",
        "    plt.xticks(np.arange(0, 21, step=2.0))\n",
        "    plt.xlabel('Player')\n",
        "    plt.ylabel('Modified z-score')\n",
        "    plt.show()"
      ],
      "metadata": {
        "id": "sfb1Kx0ebGxF"
      },
      "execution_count": null,
      "outputs": []
    },
    {
      "cell_type": "code",
      "source": [
        "plot_anomaly_goals_2(top_goals['mod_zscore'], 2)"
      ],
      "metadata": {
        "colab": {
          "base_uri": "https://localhost:8080/",
          "height": 594
        },
        "id": "u5ZHjlqgbKYf",
        "outputId": "6170b0f8-989e-4f29-a0f3-5de90c379ffc"
      },
      "execution_count": null,
      "outputs": [
        {
          "output_type": "display_data",
          "data": {
            "image/png": "[encoded data removed]",
            "text/plain": [
              "<Figure size 900x600 with 1 Axes>"
            ]
          },
          "metadata": {
            "needs_background": "light"
          }
        }
      ]
    },
    {
      "cell_type": "code",
      "source": [
        "mod_zscore_anomalies_players = top_goals[(top_goals['mod_zscore'] > 2)]\n",
        "mod_zscore_anomalies_players"
      ],
      "metadata": {
        "colab": {
          "base_uri": "https://localhost:8080/",
          "height": 173
        },
        "id": "7VlxVT7hbON-",
        "outputId": "3d700594-f671-410c-c091-684be963a9de"
      },
      "execution_count": null,
      "outputs": [
        {
          "output_type": "execute_result",
          "data": {
            "text/html": [
              "\n",
              "  <div id=\"df-bdc65977-d8d0-41db-8e9f-29d4efaafc6b\">\n",
              "    <div class=\"colab-df-container\">\n",
              "      <div>\n",
              "<style scoped>\n",
              "    .dataframe tbody tr th:only-of-type {\n",
              "        vertical-align: middle;\n",
              "    }\n",
              "\n",
              "    .dataframe tbody tr th {\n",
              "        vertical-align: top;\n",
              "    }\n",
              "\n",
              "    .dataframe thead th {\n",
              "        text-align: right;\n",
              "    }\n",
              "</style>\n",
              "<table border=\"1\" class=\"dataframe\">\n",
              "  <thead>\n",
              "    <tr style=\"text-align: right;\">\n",
              "      <th></th>\n",
              "      <th>Year</th>\n",
              "      <th>Player(s)</th>\n",
              "      <th>Goals</th>\n",
              "      <th>zscore</th>\n",
              "      <th>mod_zscore</th>\n",
              "    </tr>\n",
              "  </thead>\n",
              "  <tbody>\n",
              "    <tr>\n",
              "      <th>4</th>\n",
              "      <td>1954</td>\n",
              "      <td>Sándor Kocsis</td>\n",
              "      <td>11</td>\n",
              "      <td>1.839455</td>\n",
              "      <td>3.372454</td>\n",
              "    </tr>\n",
              "    <tr>\n",
              "      <th>5</th>\n",
              "      <td>1958</td>\n",
              "      <td>Just Fontaine</td>\n",
              "      <td>13</td>\n",
              "      <td>2.770264</td>\n",
              "      <td>4.721435</td>\n",
              "    </tr>\n",
              "    <tr>\n",
              "      <th>7</th>\n",
              "      <td>1966</td>\n",
              "      <td>Eusébio</td>\n",
              "      <td>9</td>\n",
              "      <td>0.908647</td>\n",
              "      <td>2.023472</td>\n",
              "    </tr>\n",
              "    <tr>\n",
              "      <th>8</th>\n",
              "      <td>1970</td>\n",
              "      <td>Gerd Müller</td>\n",
              "      <td>10</td>\n",
              "      <td>1.374051</td>\n",
              "      <td>2.697963</td>\n",
              "    </tr>\n",
              "  </tbody>\n",
              "</table>\n",
              "</div>\n",
              "      <button class=\"colab-df-convert\" onclick=\"convertToInteractive('df-bdc65977-d8d0-41db-8e9f-29d4efaafc6b')\"\n",
              "              title=\"Convert this dataframe to an interactive table.\"\n",
              "              style=\"display:none;\">\n",
              "        \n",
              "  <svg xmlns=\"http://www.w3.org/2000/svg\" height=\"24px\"viewBox=\"0 0 24 24\"\n",
              "       width=\"24px\">\n",
              "    <path d=\"M0 0h24v24H0V0z\" fill=\"none\"/>\n",
              "    <path d=\"M18.56 5.44l.94 2.06.94-2.06 2.06-.94-2.06-.94-.94-2.06-.94 2.06-2.06.94zm-11 1L8.5 8.5l.94-2.06 2.06-.94-2.06-.94L8.5 2.5l-.94 2.06-2.06.94zm10 10l.94 2.06.94-2.06 2.06-.94-2.06-.94-.94-2.06-.94 2.06-2.06.94z\"/><path d=\"M17.41 7.96l-1.37-1.37c-.4-.4-.92-.59-1.43-.59-.52 0-1.04.2-1.43.59L10.3 9.45l-7.72 7.72c-.78.78-.78 2.05 0 2.83L4 21.41c.39.39.9.59 1.41.59.51 0 1.02-.2 1.41-.59l7.78-7.78 2.81-2.81c.8-.78.8-2.07 0-2.86zM5.41 20L4 18.59l7.72-7.72 1.47 1.35L5.41 20z\"/>\n",
              "  </svg>\n",
              "      </button>\n",
              "      \n",
              "  <style>\n",
              "    .colab-df-container {\n",
              "      display:flex;\n",
              "      flex-wrap:wrap;\n",
              "      gap: 12px;\n",
              "    }\n",
              "\n",
              "    .colab-df-convert {\n",
              "      background-color: #E8F0FE;\n",
              "      border: none;\n",
              "      border-radius: 50%;\n",
              "      cursor: pointer;\n",
              "      display: none;\n",
              "      fill: #1967D2;\n",
              "      height: 32px;\n",
              "      padding: 0 0 0 0;\n",
              "      width: 32px;\n",
              "    }\n",
              "\n",
              "    .colab-df-convert:hover {\n",
              "      background-color: #E2EBFA;\n",
              "      box-shadow: 0px 1px 2px rgba(60, 64, 67, 0.3), 0px 1px 3px 1px rgba(60, 64, 67, 0.15);\n",
              "      fill: #174EA6;\n",
              "    }\n",
              "\n",
              "    [theme=dark] .colab-df-convert {\n",
              "      background-color: #3B4455;\n",
              "      fill: #D2E3FC;\n",
              "    }\n",
              "\n",
              "    [theme=dark] .colab-df-convert:hover {\n",
              "      background-color: #434B5C;\n",
              "      box-shadow: 0px 1px 3px 1px rgba(0, 0, 0, 0.15);\n",
              "      filter: drop-shadow(0px 1px 2px rgba(0, 0, 0, 0.3));\n",
              "      fill: #FFFFFF;\n",
              "    }\n",
              "  </style>\n",
              "\n",
              "      <script>\n",
              "        const buttonEl =\n",
              "          document.querySelector('#df-bdc65977-d8d0-41db-8e9f-29d4efaafc6b button.colab-df-convert');\n",
              "        buttonEl.style.display =\n",
              "          google.colab.kernel.accessAllowed ? 'block' : 'none';\n",
              "\n",
              "        async function convertToInteractive(key) {\n",
              "          const element = document.querySelector('#df-bdc65977-d8d0-41db-8e9f-29d4efaafc6b');\n",
              "          const dataTable =\n",
              "            await google.colab.kernel.invokeFunction('convertToInteractive',\n",
              "                                                     [key], {});\n",
              "          if (!dataTable) return;\n",
              "\n",
              "          const docLinkHtml = 'Like what you see? Visit the ' +\n",
              "            '<a target=\"_blank\" href=https://colab.research.google.com/notebooks/data_table.ipynb>data table notebook</a>'\n",
              "            + ' to learn more about interactive tables.';\n",
              "          element.innerHTML = '';\n",
              "          dataTable['output_type'] = 'display_data';\n",
              "          await google.colab.output.renderOutput(dataTable, element);\n",
              "          const docLink = document.createElement('div');\n",
              "          docLink.innerHTML = docLinkHtml;\n",
              "          element.appendChild(docLink);\n",
              "        }\n",
              "      </script>\n",
              "    </div>\n",
              "  </div>\n",
              "  "
            ],
            "text/plain": [
              "   Year      Player(s)  Goals    zscore  mod_zscore\n",
              "4  1954  Sándor Kocsis     11  1.839455    3.372454\n",
              "5  1958  Just Fontaine     13  2.770264    4.721435\n",
              "7  1966        Eusébio      9  0.908647    2.023472\n",
              "8  1970    Gerd Müller     10  1.374051    2.697963"
            ]
          },
          "metadata": {},
          "execution_count": 26
        }
      ]
    },
    {
      "cell_type": "code",
      "source": [
        "print('The value of MAD is {:.2f}'.format(mad_goals))"
      ],
      "metadata": {
        "colab": {
          "base_uri": "https://localhost:8080/"
        },
        "id": "ex7Dud2JbUGz",
        "outputId": "ce6808b6-b2e4-4f39-f8c4-97fc3cd5f0ef"
      },
      "execution_count": null,
      "outputs": [
        {
          "output_type": "stream",
          "name": "stdout",
          "text": [
            "The value of MAD is 1.00\n"
          ]
        }
      ]
    },
    {
      "cell_type": "code",
      "source": [
        "and  k∗MAD\n",
        "  is 1.48, which is smaller than the standard deviation (2.05). We see that the anomalies have a larger effect on the standard deviation, which depends on the square of the deviation from the mean (MAD depends linearly on the deviation).\n",
        "Of course, the data for top goal scorers is not normally distributed, so we can't associated probabilities with our scores, but our analysis does show the need to think about the scoring method used with the data."
      ],
      "metadata": {
        "id": "XHJhODc1bYUe"
      },
      "execution_count": null,
      "outputs": []
    },
    {
      "cell_type": "markdown",
      "source": [
        "##Distance-Based Methods\n",
        "The simplest Nearest Neighbor (NN) method is to take the distance to the k-nearest neighbor as the anomaly score. The next variation is to use the average of the distances to the top-k neighbors as the score.  sklearn provides neighbors.NearestNeighbors to compute the nearest neighbors from a dataset. After fitting, we can use kneighbors() to return the distances and indices of the top-k neighbors. We can use kneighbors_graph() to return the entire connectivity graph (as an array with 1 indicating a link) for the dataset. The graph is a sparse array, but you can operate on it the same as a normal (dense) array. If you must have a normal array, you can use todense() to make it dense.\n",
        "The idea for the kNN models is\n",
        "look at the k\n",
        " neighbors of each point\n",
        "assign a score. Roughly, a low score means the point's k\n",
        " neighbors are close.\n",
        "there are multiple ways of determining the score:\n",
        "maximum of the distances (i.e. distance to k\n",
        "th nearest neighbor)\n",
        "average the k\n",
        " distances\n",
        "harmonic mean of the k\n",
        " distances.\n",
        "Use the score to determine if something is an anomaly by using either a threshold or ranking.\n",
        "We'll start by creating a simple dataset with one anomaly and then plot the data."
      ],
      "metadata": {
        "id": "X0NA-F15c1Nn"
      }
    },
    {
      "cell_type": "code",
      "source": [
        "import sklearn.datasets as sk_data\n",
        "import sklearn.neighbors as neighbors\n",
        "import sys\n",
        "\n",
        "np.set_printoptions(suppress=True, precision=4)"
      ],
      "metadata": {
        "id": "sImnKidrc2Hw"
      },
      "execution_count": null,
      "outputs": []
    },
    {
      "cell_type": "code",
      "source": [
        "X = np.array([[0.9, 1], [0, 1], [1, 0], [0, 0], [0.5, 0.5], [0.2, 0.5], [1, 0.5], [2, 2]])\n",
        "\n",
        "plt.figure(dpi=150)\n",
        "plt.title('Upper right point looks anomalous')\n",
        "plt.xlabel('$X_1$')\n",
        "plt.ylabel('$X_2$')\n",
        "plt.plot(X[:, 0], X[:, 1], 'o');"
      ],
      "metadata": {
        "colab": {
          "base_uri": "https://localhost:8080/",
          "height": 598
        },
        "id": "-cJHPhjedJIZ",
        "outputId": "e9f537dc-41be-42f5-819f-eff71b7808c8"
      },
      "execution_count": null,
      "outputs": [
        {
          "output_type": "display_data",
          "data": {
            "image/png": "[encoded data removed]",
            "text/plain": [
              "<Figure size 900x600 with 1 Axes>"
            ]
          },
          "metadata": {
            "needs_background": "light"
          }
        }
      ]
    },
    {
      "cell_type": "markdown",
      "source": [
        "Let's create a function to visualize a query point and its neighbors more explicitly."
      ],
      "metadata": {
        "id": "NxwDhYmndQCQ"
      }
    },
    {
      "cell_type": "code",
      "source": [
        "def plot_point_and_k_neighbors(X, highlight_index, n_neighbors=2):\n",
        "    \"Plots the points in X, and shows the n_neighbors of the highlight_index-th point\"\n",
        "    nn = neighbors.NearestNeighbors(n_neighbors=n_neighbors).fit(X)\n",
        "    dist, index = nn.kneighbors()\n",
        "\n",
        "    src_pt = X[highlight_index, :]\n",
        "\n",
        "    plt.figure(dpi=150)\n",
        "    # draw lines first, so points go on top\n",
        "    for dest_index in index[highlight_index]:\n",
        "        dest_pt = X[dest_index, :]\n",
        "        plt.plot(*list(zip(src_pt, dest_pt)), 'k--')\n",
        "    plt.plot(X[:, 0], X[:, 1], 'o', label='Not k-neighbors', alpha=0.3)\n",
        "    plt.plot(*src_pt, 'o', label='The query point')\n",
        "    plt.plot(X[index[highlight_index], 0], X[index[highlight_index], 1], 'o', label='k-neighbors')\n",
        "    plt.xlabel('$X_1$')\n",
        "    plt.ylabel('$X_2$')\n",
        "    plt.legend()\n",
        "\n",
        "# Example of usage\n",
        "plot_point_and_k_neighbors(X, 0, 4)"
      ],
      "metadata": {
        "colab": {
          "base_uri": "https://localhost:8080/",
          "height": 566
        },
        "id": "2dCdDWhcdTSS",
        "outputId": "fcb5f0f9-b1f1-43b9-bfa9-215f7acbed32"
      },
      "execution_count": null,
      "outputs": [
        {
          "output_type": "display_data",
          "data": {
            "image/png": "[encoded data removed]",
            "text/plain": [
              "<Figure size 900x600 with 1 Axes>"
            ]
          },
          "metadata": {
            "needs_background": "light"
          }
        }
      ]
    },
    {
      "cell_type": "markdown",
      "source": [
        "Here we can see the 4 points close to the query point (index of 0 in our data) are relatively close. Let's look at the anomalous point in the upper right (this point has an index of 7):"
      ],
      "metadata": {
        "id": "33a6SjBHdaA0"
      }
    },
    {
      "cell_type": "code",
      "source": [
        "plot_point_and_k_neighbors(X, 7, n_neighbors=4)"
      ],
      "metadata": {
        "colab": {
          "base_uri": "https://localhost:8080/",
          "height": 566
        },
        "id": "jZ9g9pVedfmz",
        "outputId": "50f8a0a6-dbb6-415b-9752-dd2a2615f6a6"
      },
      "execution_count": null,
      "outputs": [
        {
          "output_type": "display_data",
          "data": {
            "image/png": "[encoded data removed]",
            "text/plain": [
              "<Figure size 900x600 with 1 Axes>"
            ]
          },
          "metadata": {
            "needs_background": "light"
          }
        }
      ]
    },
    {
      "cell_type": "markdown",
      "source": [
        "We can see in this case all of the 4-nearest neighbors to our point are far away, so it seems reasonably unambiguous to call this point an anomaly.\n",
        "Let's add one more point next to the anomaly, and see how choosing \"k\" and the scoring function affects things."
      ],
      "metadata": {
        "id": "_ymdULH3dsEw"
      }
    },
    {
      "cell_type": "code",
      "source": [
        "# Toy dataset with two adjacent anomalies\n",
        "X2 = np.concatenate([X, [[1.9, 2.0]]])\n",
        "\n",
        "# Look at nearest neighbor (k=1)\n",
        "plot_point_and_k_neighbors(X2, 7, n_neighbors=1)"
      ],
      "metadata": {
        "colab": {
          "base_uri": "https://localhost:8080/",
          "height": 566
        },
        "id": "TQU7L_rLdzHY",
        "outputId": "d7c2efac-4043-4dde-fd6a-68934c1a4985"
      },
      "execution_count": null,
      "outputs": [
        {
          "output_type": "display_data",
          "data": {
            "image/png": "[encoded data removed]",
            "text/plain": [
              "<Figure size 900x600 with 1 Axes>"
            ]
          },
          "metadata": {
            "needs_background": "light"
          }
        }
      ]
    },
    {
      "cell_type": "markdown",
      "source": [
        "##Observation 1: dependence on  k\n",
        "\n",
        "The distance between point 7 and the new point is actually quite small—smaller than the distances between any pair of the points in the lower left. If  k=1\n",
        " , the two points in the upper right would be the last ones to classified as an anomaly (i.e. they would have the lowest score).\n",
        "##Observation 2: how to weight distances?\n",
        "Let's look at the same data set (i.e. with the additional point) but now look at  k=3\n",
        ""
      ],
      "metadata": {
        "id": "ed5y2Zggd5Wi"
      }
    },
    {
      "cell_type": "code",
      "source": [
        "plot_point_and_k_neighbors(X2, 7, n_neighbors=3)"
      ],
      "metadata": {
        "colab": {
          "base_uri": "https://localhost:8080/",
          "height": 566
        },
        "id": "ygech0UbeGEZ",
        "outputId": "1e369f36-b537-472e-bee9-465b4265836e"
      },
      "execution_count": null,
      "outputs": [
        {
          "output_type": "display_data",
          "data": {
            "image/png": "[encoded data removed]",
            "text/plain": [
              "<Figure size 900x600 with 1 Axes>"
            ]
          },
          "metadata": {
            "needs_background": "light"
          }
        }
      ]
    },
    {
      "cell_type": "markdown",
      "source": [
        "We see one of the 3 nearest neighbors is very close, but the other two are far away. We need some way of combining these 3 distances into a single score. The three commonly used methods are\n",
        "Use the longest distance\n",
        "Use the (arithmetic) mean distance\n",
        "Use the harmonic mean.\n",
        "We will implement the longest distance, and assign the arithmetic mean distance and harmonic mean distance as exercises."
      ],
      "metadata": {
        "id": "11Qtbq3fePBh"
      }
    },
    {
      "cell_type": "markdown",
      "source": [
        "##Using the longest distance"
      ],
      "metadata": {
        "id": "VM5ESreieTOA"
      }
    },
    {
      "cell_type": "code",
      "source": [
        "def do_nn_outlier_scores(obs, n_neighbors=1):\n",
        "    \"\"\"\n",
        "    Gives the score of a point as the distance from point to its k-th nearest neighbor.\n",
        "    Larger score means more likely to be an outlier\n",
        "    \"\"\"\n",
        "    nn = neighbors.NearestNeighbors(n_neighbors=n_neighbors)\n",
        "    nn.fit(obs)\n",
        "    dists, idx = nn.kneighbors()\n",
        "    scores = dists[:,-1]\n",
        "    return scores\n",
        "\n",
        "# Test\n",
        "do_nn_outlier_scores(X2, n_neighbors=3)"
      ],
      "metadata": {
        "colab": {
          "base_uri": "https://localhost:8080/"
        },
        "id": "RvRJJZvOeU1E",
        "outputId": "63c282bf-4f15-4c04-e570-45ef0d9c7859"
      },
      "execution_count": null,
      "outputs": [
        {
          "output_type": "execute_result",
          "data": {
            "text/plain": [
              "array([0.8602, 0.9   , 0.9434, 1.    , 0.6403, 0.5385, 0.5099, 1.8028,\n",
              "       1.7493])"
            ]
          },
          "metadata": {},
          "execution_count": 34
        }
      ]
    },
    {
      "cell_type": "code",
      "source": [
        "def print_ranked_scores(obs, scores):\n",
        "    scores_and_obs = sorted(zip(scores, obs), key=lambda t: t[0], reverse=True)\n",
        "    print('Rank  Point\\t\\tScore')\n",
        "    print('------------------------------')\n",
        "    for index, score_ob in enumerate(scores_and_obs):\n",
        "        score, point = score_ob\n",
        "        print(f'{index+1:3d}.  {point}\\t\\t{score:6.4f}')\n",
        "\n",
        "# Look at the outliers using 3 neighbors"
      ],
      "metadata": {
        "id": "uKKbYVSDebwV"
      },
      "execution_count": null,
      "outputs": []
    },
    {
      "cell_type": "markdown",
      "source": [
        "Now look at the anomalies with k=1"
      ],
      "metadata": {
        "id": "UmhbPtfSefL5"
      }
    },
    {
      "cell_type": "code",
      "source": [
        "\n",
        "print_ranked_scores(X2, do_nn_outlier_scores(X2, 1))"
      ],
      "metadata": {
        "colab": {
          "base_uri": "https://localhost:8080/"
        },
        "id": "vm_Hz-YLehfs",
        "outputId": "1fc19d68-aabb-43af-c49e-adbc00c4ce0f"
      },
      "execution_count": null,
      "outputs": [
        {
          "output_type": "stream",
          "name": "stdout",
          "text": [
            "Rank  Point\t\tScore\n",
            "------------------------------\n",
            "  1.  [0. 1.]\t\t0.5385\n",
            "  2.  [0. 0.]\t\t0.5385\n",
            "  3.  [0.9 1. ]\t\t0.5099\n",
            "  4.  [1. 0.]\t\t0.5000\n",
            "  5.  [1.  0.5]\t\t0.5000\n",
            "  6.  [0.5 0.5]\t\t0.3000\n",
            "  7.  [0.2 0.5]\t\t0.3000\n",
            "  8.  [2. 2.]\t\t0.1000\n",
            "  9.  [1.9 2. ]\t\t0.1000\n"
          ]
        }
      ]
    },
    {
      "cell_type": "markdown",
      "source": [
        "##Density-Based Methods (Local Outlier Factor)¶"
      ],
      "metadata": {
        "id": "vuvXWeO8ev-w"
      }
    },
    {
      "cell_type": "markdown",
      "source": [
        "The local outlier factor (LOF) is sklearn has a version available for us to use. Note the the LOF returned by sklearn is the negative of the value we defined in the lecture.\n",
        "Apply LOF to the collection of points ('X2') we created in section 1."
      ],
      "metadata": {
        "id": "j1V3SMPne0B7"
      }
    },
    {
      "cell_type": "code",
      "source": [
        "import sklearn.neighbors as neighbors\n",
        "lof = neighbors.LocalOutlierFactor(n_neighbors=3, contamination='auto')\n",
        "lof.fit(X2)\n",
        "sk_lof = -lof.negative_outlier_factor_\n",
        "print_ranked_scores(X2, sk_lof)"
      ],
      "metadata": {
        "colab": {
          "base_uri": "https://localhost:8080/"
        },
        "id": "Z3D_FcWge2hM",
        "outputId": "8d62e176-a262-430b-f95a-e970af759654"
      },
      "execution_count": null,
      "outputs": [
        {
          "output_type": "stream",
          "name": "stdout",
          "text": [
            "Rank  Point\t\tScore\n",
            "------------------------------\n",
            "  1.  [2. 2.]\t\t1.8608\n",
            "  2.  [1.9 2. ]\t\t1.8293\n",
            "  3.  [0.2 0.5]\t\t1.2154\n",
            "  4.  [1.  0.5]\t\t1.2091\n",
            "  5.  [0. 0.]\t\t1.0333\n",
            "  6.  [0. 1.]\t\t1.0120\n",
            "  7.  [1. 0.]\t\t0.9554\n",
            "  8.  [0.9 1. ]\t\t0.8891\n",
            "  9.  [0.5 0.5]\t\t0.8272\n"
          ]
        }
      ]
    },
    {
      "cell_type": "markdown",
      "source": [
        "See values both above and below 1.  we expect the values significantly above 1 to be anomalies.\n",
        "Compare with the kNN results from before. Note we use the same value of k (=3) for both algorithms."
      ],
      "metadata": {
        "id": "hNsXy_dsfAcr"
      }
    },
    {
      "cell_type": "code",
      "source": [
        "print_ranked_scores(X2, do_nn_outlier_scores(X2, 3))"
      ],
      "metadata": {
        "colab": {
          "base_uri": "https://localhost:8080/"
        },
        "id": "pGKB5DAyfFlR",
        "outputId": "5a78b2c1-80ea-4e6e-96ce-db788998c74d"
      },
      "execution_count": null,
      "outputs": [
        {
          "output_type": "stream",
          "name": "stdout",
          "text": [
            "Rank  Point\t\tScore\n",
            "------------------------------\n",
            "  1.  [2. 2.]\t\t1.8028\n",
            "  2.  [1.9 2. ]\t\t1.7493\n",
            "  3.  [0. 0.]\t\t1.0000\n",
            "  4.  [1. 0.]\t\t0.9434\n",
            "  5.  [0. 1.]\t\t0.9000\n",
            "  6.  [0.9 1. ]\t\t0.8602\n",
            "  7.  [0.5 0.5]\t\t0.6403\n",
            "  8.  [0.2 0.5]\t\t0.5385\n",
            "  9.  [1.  0.5]\t\t0.5099\n"
          ]
        }
      ]
    },
    {
      "cell_type": "markdown",
      "source": [
        "The two anomalous points are both found either way, but there are differences between the results for the other points.\n",
        "For completeness, we provide below an explicit implementation of LOF that follows the outline given in the lecture. To check that our algorithm is reasonable, we compare the results for its anomaly score with those of the sklearn version for the cluster blobs ('data')."
      ],
      "metadata": {
        "id": "bHgK0cS3fQzQ"
      }
    },
    {
      "cell_type": "code",
      "source": [
        "def lof_method(obs, n_neighbors=2):\n",
        "    neigh = neighbors.NearestNeighbors(n_neighbors=2).fit(obs)\n",
        "\n",
        "    #Return indices of and distances to the neighbors of each point\n",
        "    topk_dist, my_kneigh = neigh.kneighbors()\n",
        "\n",
        "    # Create list of distances of furthest (kth) neighbor\n",
        "    k_dist = topk_dist[:,-1]\n",
        "\n",
        "    # Reachability distance: maximum of true distance between query neighbor and query point\n",
        "    # and distance to kth nearest neighbor of query neighbor\n",
        "    reach = np.maximum(topk_dist, k_dist[my_kneigh])\n",
        "\n",
        "    # Local reacability density is reciprocal of average reachability distance\n",
        "    lrd = 1.0 / np.mean(reach, axis=1)\n",
        "\n",
        "    # Local outlier factor is given by\n",
        "    # average local density of neighbors / local density of query point\n",
        "    lrd_ratios = lrd[my_kneigh] / lrd[:, np.newaxis]\n",
        "    lof = np.mean(lrd_ratios, axis=1)\n",
        "\n",
        "    return lof"
      ],
      "metadata": {
        "id": "XWC5QrN9fXdE"
      },
      "execution_count": null,
      "outputs": []
    }
  ]
}